{
  "nbformat": 4,
  "nbformat_minor": 0,
  "metadata": {
    "colab": {
      "provenance": [],
      "machine_shape": "hm",
      "authorship_tag": "ABX9TyMUXQxgg9NeOVSf+mQZDUEo",
      "include_colab_link": true
    },
    "kernelspec": {
      "name": "python3",
      "display_name": "Python 3"
    },
    "language_info": {
      "name": "python"
    },
    "accelerator": "TPU",
    "gpuClass": "standard",
    "widgets": {
      "application/vnd.jupyter.widget-state+json": {
        "a6d0c87675db43198add5f7dee9e5db2": {
          "model_module": "@jupyter-widgets/controls",
          "model_name": "HBoxModel",
          "model_module_version": "1.5.0",
          "state": {
            "_dom_classes": [],
            "_model_module": "@jupyter-widgets/controls",
            "_model_module_version": "1.5.0",
            "_model_name": "HBoxModel",
            "_view_count": null,
            "_view_module": "@jupyter-widgets/controls",
            "_view_module_version": "1.5.0",
            "_view_name": "HBoxView",
            "box_style": "",
            "children": [
              "IPY_MODEL_32b7ac8a3eae4308a78dfce3d05c82fd",
              "IPY_MODEL_ed6e7b501669467d8eda0da1e3e725db",
              "IPY_MODEL_9036da49b52e4d0699d53e6c06f5a735"
            ],
            "layout": "IPY_MODEL_36771192ccb54013b01a0208760dc2ce"
          }
        },
        "32b7ac8a3eae4308a78dfce3d05c82fd": {
          "model_module": "@jupyter-widgets/controls",
          "model_name": "HTMLModel",
          "model_module_version": "1.5.0",
          "state": {
            "_dom_classes": [],
            "_model_module": "@jupyter-widgets/controls",
            "_model_module_version": "1.5.0",
            "_model_name": "HTMLModel",
            "_view_count": null,
            "_view_module": "@jupyter-widgets/controls",
            "_view_module_version": "1.5.0",
            "_view_name": "HTMLView",
            "description": "",
            "description_tooltip": null,
            "layout": "IPY_MODEL_91323721846944449524739dd3b63035",
            "placeholder": "​",
            "style": "IPY_MODEL_c781da5e9e2d47a0b382c7d0cec8b711",
            "value": "Downloading (…)okenizer_config.json: 100%"
          }
        },
        "ed6e7b501669467d8eda0da1e3e725db": {
          "model_module": "@jupyter-widgets/controls",
          "model_name": "FloatProgressModel",
          "model_module_version": "1.5.0",
          "state": {
            "_dom_classes": [],
            "_model_module": "@jupyter-widgets/controls",
            "_model_module_version": "1.5.0",
            "_model_name": "FloatProgressModel",
            "_view_count": null,
            "_view_module": "@jupyter-widgets/controls",
            "_view_module_version": "1.5.0",
            "_view_name": "ProgressView",
            "bar_style": "success",
            "description": "",
            "description_tooltip": null,
            "layout": "IPY_MODEL_7f08026cd7614364a30937b2e7eaf22e",
            "max": 28,
            "min": 0,
            "orientation": "horizontal",
            "style": "IPY_MODEL_f6c3fb0015db4426ac95f482dca9d84e",
            "value": 28
          }
        },
        "9036da49b52e4d0699d53e6c06f5a735": {
          "model_module": "@jupyter-widgets/controls",
          "model_name": "HTMLModel",
          "model_module_version": "1.5.0",
          "state": {
            "_dom_classes": [],
            "_model_module": "@jupyter-widgets/controls",
            "_model_module_version": "1.5.0",
            "_model_name": "HTMLModel",
            "_view_count": null,
            "_view_module": "@jupyter-widgets/controls",
            "_view_module_version": "1.5.0",
            "_view_name": "HTMLView",
            "description": "",
            "description_tooltip": null,
            "layout": "IPY_MODEL_75685eeae52a4daab1375b8f3123a16d",
            "placeholder": "​",
            "style": "IPY_MODEL_6a2fe6a58679488daf7277c16917ff85",
            "value": " 28.0/28.0 [00:00&lt;00:00, 1.86kB/s]"
          }
        },
        "36771192ccb54013b01a0208760dc2ce": {
          "model_module": "@jupyter-widgets/base",
          "model_name": "LayoutModel",
          "model_module_version": "1.2.0",
          "state": {
            "_model_module": "@jupyter-widgets/base",
            "_model_module_version": "1.2.0",
            "_model_name": "LayoutModel",
            "_view_count": null,
            "_view_module": "@jupyter-widgets/base",
            "_view_module_version": "1.2.0",
            "_view_name": "LayoutView",
            "align_content": null,
            "align_items": null,
            "align_self": null,
            "border": null,
            "bottom": null,
            "display": null,
            "flex": null,
            "flex_flow": null,
            "grid_area": null,
            "grid_auto_columns": null,
            "grid_auto_flow": null,
            "grid_auto_rows": null,
            "grid_column": null,
            "grid_gap": null,
            "grid_row": null,
            "grid_template_areas": null,
            "grid_template_columns": null,
            "grid_template_rows": null,
            "height": null,
            "justify_content": null,
            "justify_items": null,
            "left": null,
            "margin": null,
            "max_height": null,
            "max_width": null,
            "min_height": null,
            "min_width": null,
            "object_fit": null,
            "object_position": null,
            "order": null,
            "overflow": null,
            "overflow_x": null,
            "overflow_y": null,
            "padding": null,
            "right": null,
            "top": null,
            "visibility": null,
            "width": null
          }
        },
        "91323721846944449524739dd3b63035": {
          "model_module": "@jupyter-widgets/base",
          "model_name": "LayoutModel",
          "model_module_version": "1.2.0",
          "state": {
            "_model_module": "@jupyter-widgets/base",
            "_model_module_version": "1.2.0",
            "_model_name": "LayoutModel",
            "_view_count": null,
            "_view_module": "@jupyter-widgets/base",
            "_view_module_version": "1.2.0",
            "_view_name": "LayoutView",
            "align_content": null,
            "align_items": null,
            "align_self": null,
            "border": null,
            "bottom": null,
            "display": null,
            "flex": null,
            "flex_flow": null,
            "grid_area": null,
            "grid_auto_columns": null,
            "grid_auto_flow": null,
            "grid_auto_rows": null,
            "grid_column": null,
            "grid_gap": null,
            "grid_row": null,
            "grid_template_areas": null,
            "grid_template_columns": null,
            "grid_template_rows": null,
            "height": null,
            "justify_content": null,
            "justify_items": null,
            "left": null,
            "margin": null,
            "max_height": null,
            "max_width": null,
            "min_height": null,
            "min_width": null,
            "object_fit": null,
            "object_position": null,
            "order": null,
            "overflow": null,
            "overflow_x": null,
            "overflow_y": null,
            "padding": null,
            "right": null,
            "top": null,
            "visibility": null,
            "width": null
          }
        },
        "c781da5e9e2d47a0b382c7d0cec8b711": {
          "model_module": "@jupyter-widgets/controls",
          "model_name": "DescriptionStyleModel",
          "model_module_version": "1.5.0",
          "state": {
            "_model_module": "@jupyter-widgets/controls",
            "_model_module_version": "1.5.0",
            "_model_name": "DescriptionStyleModel",
            "_view_count": null,
            "_view_module": "@jupyter-widgets/base",
            "_view_module_version": "1.2.0",
            "_view_name": "StyleView",
            "description_width": ""
          }
        },
        "7f08026cd7614364a30937b2e7eaf22e": {
          "model_module": "@jupyter-widgets/base",
          "model_name": "LayoutModel",
          "model_module_version": "1.2.0",
          "state": {
            "_model_module": "@jupyter-widgets/base",
            "_model_module_version": "1.2.0",
            "_model_name": "LayoutModel",
            "_view_count": null,
            "_view_module": "@jupyter-widgets/base",
            "_view_module_version": "1.2.0",
            "_view_name": "LayoutView",
            "align_content": null,
            "align_items": null,
            "align_self": null,
            "border": null,
            "bottom": null,
            "display": null,
            "flex": null,
            "flex_flow": null,
            "grid_area": null,
            "grid_auto_columns": null,
            "grid_auto_flow": null,
            "grid_auto_rows": null,
            "grid_column": null,
            "grid_gap": null,
            "grid_row": null,
            "grid_template_areas": null,
            "grid_template_columns": null,
            "grid_template_rows": null,
            "height": null,
            "justify_content": null,
            "justify_items": null,
            "left": null,
            "margin": null,
            "max_height": null,
            "max_width": null,
            "min_height": null,
            "min_width": null,
            "object_fit": null,
            "object_position": null,
            "order": null,
            "overflow": null,
            "overflow_x": null,
            "overflow_y": null,
            "padding": null,
            "right": null,
            "top": null,
            "visibility": null,
            "width": null
          }
        },
        "f6c3fb0015db4426ac95f482dca9d84e": {
          "model_module": "@jupyter-widgets/controls",
          "model_name": "ProgressStyleModel",
          "model_module_version": "1.5.0",
          "state": {
            "_model_module": "@jupyter-widgets/controls",
            "_model_module_version": "1.5.0",
            "_model_name": "ProgressStyleModel",
            "_view_count": null,
            "_view_module": "@jupyter-widgets/base",
            "_view_module_version": "1.2.0",
            "_view_name": "StyleView",
            "bar_color": null,
            "description_width": ""
          }
        },
        "75685eeae52a4daab1375b8f3123a16d": {
          "model_module": "@jupyter-widgets/base",
          "model_name": "LayoutModel",
          "model_module_version": "1.2.0",
          "state": {
            "_model_module": "@jupyter-widgets/base",
            "_model_module_version": "1.2.0",
            "_model_name": "LayoutModel",
            "_view_count": null,
            "_view_module": "@jupyter-widgets/base",
            "_view_module_version": "1.2.0",
            "_view_name": "LayoutView",
            "align_content": null,
            "align_items": null,
            "align_self": null,
            "border": null,
            "bottom": null,
            "display": null,
            "flex": null,
            "flex_flow": null,
            "grid_area": null,
            "grid_auto_columns": null,
            "grid_auto_flow": null,
            "grid_auto_rows": null,
            "grid_column": null,
            "grid_gap": null,
            "grid_row": null,
            "grid_template_areas": null,
            "grid_template_columns": null,
            "grid_template_rows": null,
            "height": null,
            "justify_content": null,
            "justify_items": null,
            "left": null,
            "margin": null,
            "max_height": null,
            "max_width": null,
            "min_height": null,
            "min_width": null,
            "object_fit": null,
            "object_position": null,
            "order": null,
            "overflow": null,
            "overflow_x": null,
            "overflow_y": null,
            "padding": null,
            "right": null,
            "top": null,
            "visibility": null,
            "width": null
          }
        },
        "6a2fe6a58679488daf7277c16917ff85": {
          "model_module": "@jupyter-widgets/controls",
          "model_name": "DescriptionStyleModel",
          "model_module_version": "1.5.0",
          "state": {
            "_model_module": "@jupyter-widgets/controls",
            "_model_module_version": "1.5.0",
            "_model_name": "DescriptionStyleModel",
            "_view_count": null,
            "_view_module": "@jupyter-widgets/base",
            "_view_module_version": "1.2.0",
            "_view_name": "StyleView",
            "description_width": ""
          }
        },
        "3452b439512c47c48a33a7a5664b44f0": {
          "model_module": "@jupyter-widgets/controls",
          "model_name": "HBoxModel",
          "model_module_version": "1.5.0",
          "state": {
            "_dom_classes": [],
            "_model_module": "@jupyter-widgets/controls",
            "_model_module_version": "1.5.0",
            "_model_name": "HBoxModel",
            "_view_count": null,
            "_view_module": "@jupyter-widgets/controls",
            "_view_module_version": "1.5.0",
            "_view_name": "HBoxView",
            "box_style": "",
            "children": [
              "IPY_MODEL_057c975f305b47a4a805c78925c03620",
              "IPY_MODEL_58191bab5d35424692ea68df1020ed98",
              "IPY_MODEL_b1be04c683fd4b778f4d6288381736b4"
            ],
            "layout": "IPY_MODEL_f9573b0f7b6d491f9295f927cff76ed9"
          }
        },
        "057c975f305b47a4a805c78925c03620": {
          "model_module": "@jupyter-widgets/controls",
          "model_name": "HTMLModel",
          "model_module_version": "1.5.0",
          "state": {
            "_dom_classes": [],
            "_model_module": "@jupyter-widgets/controls",
            "_model_module_version": "1.5.0",
            "_model_name": "HTMLModel",
            "_view_count": null,
            "_view_module": "@jupyter-widgets/controls",
            "_view_module_version": "1.5.0",
            "_view_name": "HTMLView",
            "description": "",
            "description_tooltip": null,
            "layout": "IPY_MODEL_0f0b0075159f402cb8735481216d70d6",
            "placeholder": "​",
            "style": "IPY_MODEL_570d1c1c7b9b459583a04e90911b3f38",
            "value": "Downloading (…)lve/main/config.json: 100%"
          }
        },
        "58191bab5d35424692ea68df1020ed98": {
          "model_module": "@jupyter-widgets/controls",
          "model_name": "FloatProgressModel",
          "model_module_version": "1.5.0",
          "state": {
            "_dom_classes": [],
            "_model_module": "@jupyter-widgets/controls",
            "_model_module_version": "1.5.0",
            "_model_name": "FloatProgressModel",
            "_view_count": null,
            "_view_module": "@jupyter-widgets/controls",
            "_view_module_version": "1.5.0",
            "_view_name": "ProgressView",
            "bar_style": "success",
            "description": "",
            "description_tooltip": null,
            "layout": "IPY_MODEL_0ea20e83849c45a0a01ece9d44f4e86c",
            "max": 483,
            "min": 0,
            "orientation": "horizontal",
            "style": "IPY_MODEL_583a5b38ed3947eabae79b479c6a26a0",
            "value": 483
          }
        },
        "b1be04c683fd4b778f4d6288381736b4": {
          "model_module": "@jupyter-widgets/controls",
          "model_name": "HTMLModel",
          "model_module_version": "1.5.0",
          "state": {
            "_dom_classes": [],
            "_model_module": "@jupyter-widgets/controls",
            "_model_module_version": "1.5.0",
            "_model_name": "HTMLModel",
            "_view_count": null,
            "_view_module": "@jupyter-widgets/controls",
            "_view_module_version": "1.5.0",
            "_view_name": "HTMLView",
            "description": "",
            "description_tooltip": null,
            "layout": "IPY_MODEL_c0d88af9bbb041af86699124371d3c1f",
            "placeholder": "​",
            "style": "IPY_MODEL_1bab2dca0b3c49128689c49d85c3a0dd",
            "value": " 483/483 [00:00&lt;00:00, 35.5kB/s]"
          }
        },
        "f9573b0f7b6d491f9295f927cff76ed9": {
          "model_module": "@jupyter-widgets/base",
          "model_name": "LayoutModel",
          "model_module_version": "1.2.0",
          "state": {
            "_model_module": "@jupyter-widgets/base",
            "_model_module_version": "1.2.0",
            "_model_name": "LayoutModel",
            "_view_count": null,
            "_view_module": "@jupyter-widgets/base",
            "_view_module_version": "1.2.0",
            "_view_name": "LayoutView",
            "align_content": null,
            "align_items": null,
            "align_self": null,
            "border": null,
            "bottom": null,
            "display": null,
            "flex": null,
            "flex_flow": null,
            "grid_area": null,
            "grid_auto_columns": null,
            "grid_auto_flow": null,
            "grid_auto_rows": null,
            "grid_column": null,
            "grid_gap": null,
            "grid_row": null,
            "grid_template_areas": null,
            "grid_template_columns": null,
            "grid_template_rows": null,
            "height": null,
            "justify_content": null,
            "justify_items": null,
            "left": null,
            "margin": null,
            "max_height": null,
            "max_width": null,
            "min_height": null,
            "min_width": null,
            "object_fit": null,
            "object_position": null,
            "order": null,
            "overflow": null,
            "overflow_x": null,
            "overflow_y": null,
            "padding": null,
            "right": null,
            "top": null,
            "visibility": null,
            "width": null
          }
        },
        "0f0b0075159f402cb8735481216d70d6": {
          "model_module": "@jupyter-widgets/base",
          "model_name": "LayoutModel",
          "model_module_version": "1.2.0",
          "state": {
            "_model_module": "@jupyter-widgets/base",
            "_model_module_version": "1.2.0",
            "_model_name": "LayoutModel",
            "_view_count": null,
            "_view_module": "@jupyter-widgets/base",
            "_view_module_version": "1.2.0",
            "_view_name": "LayoutView",
            "align_content": null,
            "align_items": null,
            "align_self": null,
            "border": null,
            "bottom": null,
            "display": null,
            "flex": null,
            "flex_flow": null,
            "grid_area": null,
            "grid_auto_columns": null,
            "grid_auto_flow": null,
            "grid_auto_rows": null,
            "grid_column": null,
            "grid_gap": null,
            "grid_row": null,
            "grid_template_areas": null,
            "grid_template_columns": null,
            "grid_template_rows": null,
            "height": null,
            "justify_content": null,
            "justify_items": null,
            "left": null,
            "margin": null,
            "max_height": null,
            "max_width": null,
            "min_height": null,
            "min_width": null,
            "object_fit": null,
            "object_position": null,
            "order": null,
            "overflow": null,
            "overflow_x": null,
            "overflow_y": null,
            "padding": null,
            "right": null,
            "top": null,
            "visibility": null,
            "width": null
          }
        },
        "570d1c1c7b9b459583a04e90911b3f38": {
          "model_module": "@jupyter-widgets/controls",
          "model_name": "DescriptionStyleModel",
          "model_module_version": "1.5.0",
          "state": {
            "_model_module": "@jupyter-widgets/controls",
            "_model_module_version": "1.5.0",
            "_model_name": "DescriptionStyleModel",
            "_view_count": null,
            "_view_module": "@jupyter-widgets/base",
            "_view_module_version": "1.2.0",
            "_view_name": "StyleView",
            "description_width": ""
          }
        },
        "0ea20e83849c45a0a01ece9d44f4e86c": {
          "model_module": "@jupyter-widgets/base",
          "model_name": "LayoutModel",
          "model_module_version": "1.2.0",
          "state": {
            "_model_module": "@jupyter-widgets/base",
            "_model_module_version": "1.2.0",
            "_model_name": "LayoutModel",
            "_view_count": null,
            "_view_module": "@jupyter-widgets/base",
            "_view_module_version": "1.2.0",
            "_view_name": "LayoutView",
            "align_content": null,
            "align_items": null,
            "align_self": null,
            "border": null,
            "bottom": null,
            "display": null,
            "flex": null,
            "flex_flow": null,
            "grid_area": null,
            "grid_auto_columns": null,
            "grid_auto_flow": null,
            "grid_auto_rows": null,
            "grid_column": null,
            "grid_gap": null,
            "grid_row": null,
            "grid_template_areas": null,
            "grid_template_columns": null,
            "grid_template_rows": null,
            "height": null,
            "justify_content": null,
            "justify_items": null,
            "left": null,
            "margin": null,
            "max_height": null,
            "max_width": null,
            "min_height": null,
            "min_width": null,
            "object_fit": null,
            "object_position": null,
            "order": null,
            "overflow": null,
            "overflow_x": null,
            "overflow_y": null,
            "padding": null,
            "right": null,
            "top": null,
            "visibility": null,
            "width": null
          }
        },
        "583a5b38ed3947eabae79b479c6a26a0": {
          "model_module": "@jupyter-widgets/controls",
          "model_name": "ProgressStyleModel",
          "model_module_version": "1.5.0",
          "state": {
            "_model_module": "@jupyter-widgets/controls",
            "_model_module_version": "1.5.0",
            "_model_name": "ProgressStyleModel",
            "_view_count": null,
            "_view_module": "@jupyter-widgets/base",
            "_view_module_version": "1.2.0",
            "_view_name": "StyleView",
            "bar_color": null,
            "description_width": ""
          }
        },
        "c0d88af9bbb041af86699124371d3c1f": {
          "model_module": "@jupyter-widgets/base",
          "model_name": "LayoutModel",
          "model_module_version": "1.2.0",
          "state": {
            "_model_module": "@jupyter-widgets/base",
            "_model_module_version": "1.2.0",
            "_model_name": "LayoutModel",
            "_view_count": null,
            "_view_module": "@jupyter-widgets/base",
            "_view_module_version": "1.2.0",
            "_view_name": "LayoutView",
            "align_content": null,
            "align_items": null,
            "align_self": null,
            "border": null,
            "bottom": null,
            "display": null,
            "flex": null,
            "flex_flow": null,
            "grid_area": null,
            "grid_auto_columns": null,
            "grid_auto_flow": null,
            "grid_auto_rows": null,
            "grid_column": null,
            "grid_gap": null,
            "grid_row": null,
            "grid_template_areas": null,
            "grid_template_columns": null,
            "grid_template_rows": null,
            "height": null,
            "justify_content": null,
            "justify_items": null,
            "left": null,
            "margin": null,
            "max_height": null,
            "max_width": null,
            "min_height": null,
            "min_width": null,
            "object_fit": null,
            "object_position": null,
            "order": null,
            "overflow": null,
            "overflow_x": null,
            "overflow_y": null,
            "padding": null,
            "right": null,
            "top": null,
            "visibility": null,
            "width": null
          }
        },
        "1bab2dca0b3c49128689c49d85c3a0dd": {
          "model_module": "@jupyter-widgets/controls",
          "model_name": "DescriptionStyleModel",
          "model_module_version": "1.5.0",
          "state": {
            "_model_module": "@jupyter-widgets/controls",
            "_model_module_version": "1.5.0",
            "_model_name": "DescriptionStyleModel",
            "_view_count": null,
            "_view_module": "@jupyter-widgets/base",
            "_view_module_version": "1.2.0",
            "_view_name": "StyleView",
            "description_width": ""
          }
        },
        "ce97540b97cc4bb99961d6715590c608": {
          "model_module": "@jupyter-widgets/controls",
          "model_name": "HBoxModel",
          "model_module_version": "1.5.0",
          "state": {
            "_dom_classes": [],
            "_model_module": "@jupyter-widgets/controls",
            "_model_module_version": "1.5.0",
            "_model_name": "HBoxModel",
            "_view_count": null,
            "_view_module": "@jupyter-widgets/controls",
            "_view_module_version": "1.5.0",
            "_view_name": "HBoxView",
            "box_style": "",
            "children": [
              "IPY_MODEL_00b2cb0db5bc44aa90f2d68c4778cf43",
              "IPY_MODEL_9956781a5c7b4ae1ad7455321f054bf1",
              "IPY_MODEL_296e9853039946379ec3d4dbb3d5b1f8"
            ],
            "layout": "IPY_MODEL_2e5f527e80994db1b93ee8f057dd4b23"
          }
        },
        "00b2cb0db5bc44aa90f2d68c4778cf43": {
          "model_module": "@jupyter-widgets/controls",
          "model_name": "HTMLModel",
          "model_module_version": "1.5.0",
          "state": {
            "_dom_classes": [],
            "_model_module": "@jupyter-widgets/controls",
            "_model_module_version": "1.5.0",
            "_model_name": "HTMLModel",
            "_view_count": null,
            "_view_module": "@jupyter-widgets/controls",
            "_view_module_version": "1.5.0",
            "_view_name": "HTMLView",
            "description": "",
            "description_tooltip": null,
            "layout": "IPY_MODEL_b447803f9f084625ad91ce1afe76fac9",
            "placeholder": "​",
            "style": "IPY_MODEL_e5074f3189c24e49942efc8f542b12ea",
            "value": "Downloading (…)solve/main/vocab.txt: 100%"
          }
        },
        "9956781a5c7b4ae1ad7455321f054bf1": {
          "model_module": "@jupyter-widgets/controls",
          "model_name": "FloatProgressModel",
          "model_module_version": "1.5.0",
          "state": {
            "_dom_classes": [],
            "_model_module": "@jupyter-widgets/controls",
            "_model_module_version": "1.5.0",
            "_model_name": "FloatProgressModel",
            "_view_count": null,
            "_view_module": "@jupyter-widgets/controls",
            "_view_module_version": "1.5.0",
            "_view_name": "ProgressView",
            "bar_style": "success",
            "description": "",
            "description_tooltip": null,
            "layout": "IPY_MODEL_e966c5100b394dbca4eb075bd15a5064",
            "max": 231508,
            "min": 0,
            "orientation": "horizontal",
            "style": "IPY_MODEL_6e513b5bc0b1486cbc135f6c7172797f",
            "value": 231508
          }
        },
        "296e9853039946379ec3d4dbb3d5b1f8": {
          "model_module": "@jupyter-widgets/controls",
          "model_name": "HTMLModel",
          "model_module_version": "1.5.0",
          "state": {
            "_dom_classes": [],
            "_model_module": "@jupyter-widgets/controls",
            "_model_module_version": "1.5.0",
            "_model_name": "HTMLModel",
            "_view_count": null,
            "_view_module": "@jupyter-widgets/controls",
            "_view_module_version": "1.5.0",
            "_view_name": "HTMLView",
            "description": "",
            "description_tooltip": null,
            "layout": "IPY_MODEL_dff27461dd704fa88a00edcbf21379fc",
            "placeholder": "​",
            "style": "IPY_MODEL_55519ff0b224431d959f143fe1d56303",
            "value": " 232k/232k [00:00&lt;00:00, 2.63MB/s]"
          }
        },
        "2e5f527e80994db1b93ee8f057dd4b23": {
          "model_module": "@jupyter-widgets/base",
          "model_name": "LayoutModel",
          "model_module_version": "1.2.0",
          "state": {
            "_model_module": "@jupyter-widgets/base",
            "_model_module_version": "1.2.0",
            "_model_name": "LayoutModel",
            "_view_count": null,
            "_view_module": "@jupyter-widgets/base",
            "_view_module_version": "1.2.0",
            "_view_name": "LayoutView",
            "align_content": null,
            "align_items": null,
            "align_self": null,
            "border": null,
            "bottom": null,
            "display": null,
            "flex": null,
            "flex_flow": null,
            "grid_area": null,
            "grid_auto_columns": null,
            "grid_auto_flow": null,
            "grid_auto_rows": null,
            "grid_column": null,
            "grid_gap": null,
            "grid_row": null,
            "grid_template_areas": null,
            "grid_template_columns": null,
            "grid_template_rows": null,
            "height": null,
            "justify_content": null,
            "justify_items": null,
            "left": null,
            "margin": null,
            "max_height": null,
            "max_width": null,
            "min_height": null,
            "min_width": null,
            "object_fit": null,
            "object_position": null,
            "order": null,
            "overflow": null,
            "overflow_x": null,
            "overflow_y": null,
            "padding": null,
            "right": null,
            "top": null,
            "visibility": null,
            "width": null
          }
        },
        "b447803f9f084625ad91ce1afe76fac9": {
          "model_module": "@jupyter-widgets/base",
          "model_name": "LayoutModel",
          "model_module_version": "1.2.0",
          "state": {
            "_model_module": "@jupyter-widgets/base",
            "_model_module_version": "1.2.0",
            "_model_name": "LayoutModel",
            "_view_count": null,
            "_view_module": "@jupyter-widgets/base",
            "_view_module_version": "1.2.0",
            "_view_name": "LayoutView",
            "align_content": null,
            "align_items": null,
            "align_self": null,
            "border": null,
            "bottom": null,
            "display": null,
            "flex": null,
            "flex_flow": null,
            "grid_area": null,
            "grid_auto_columns": null,
            "grid_auto_flow": null,
            "grid_auto_rows": null,
            "grid_column": null,
            "grid_gap": null,
            "grid_row": null,
            "grid_template_areas": null,
            "grid_template_columns": null,
            "grid_template_rows": null,
            "height": null,
            "justify_content": null,
            "justify_items": null,
            "left": null,
            "margin": null,
            "max_height": null,
            "max_width": null,
            "min_height": null,
            "min_width": null,
            "object_fit": null,
            "object_position": null,
            "order": null,
            "overflow": null,
            "overflow_x": null,
            "overflow_y": null,
            "padding": null,
            "right": null,
            "top": null,
            "visibility": null,
            "width": null
          }
        },
        "e5074f3189c24e49942efc8f542b12ea": {
          "model_module": "@jupyter-widgets/controls",
          "model_name": "DescriptionStyleModel",
          "model_module_version": "1.5.0",
          "state": {
            "_model_module": "@jupyter-widgets/controls",
            "_model_module_version": "1.5.0",
            "_model_name": "DescriptionStyleModel",
            "_view_count": null,
            "_view_module": "@jupyter-widgets/base",
            "_view_module_version": "1.2.0",
            "_view_name": "StyleView",
            "description_width": ""
          }
        },
        "e966c5100b394dbca4eb075bd15a5064": {
          "model_module": "@jupyter-widgets/base",
          "model_name": "LayoutModel",
          "model_module_version": "1.2.0",
          "state": {
            "_model_module": "@jupyter-widgets/base",
            "_model_module_version": "1.2.0",
            "_model_name": "LayoutModel",
            "_view_count": null,
            "_view_module": "@jupyter-widgets/base",
            "_view_module_version": "1.2.0",
            "_view_name": "LayoutView",
            "align_content": null,
            "align_items": null,
            "align_self": null,
            "border": null,
            "bottom": null,
            "display": null,
            "flex": null,
            "flex_flow": null,
            "grid_area": null,
            "grid_auto_columns": null,
            "grid_auto_flow": null,
            "grid_auto_rows": null,
            "grid_column": null,
            "grid_gap": null,
            "grid_row": null,
            "grid_template_areas": null,
            "grid_template_columns": null,
            "grid_template_rows": null,
            "height": null,
            "justify_content": null,
            "justify_items": null,
            "left": null,
            "margin": null,
            "max_height": null,
            "max_width": null,
            "min_height": null,
            "min_width": null,
            "object_fit": null,
            "object_position": null,
            "order": null,
            "overflow": null,
            "overflow_x": null,
            "overflow_y": null,
            "padding": null,
            "right": null,
            "top": null,
            "visibility": null,
            "width": null
          }
        },
        "6e513b5bc0b1486cbc135f6c7172797f": {
          "model_module": "@jupyter-widgets/controls",
          "model_name": "ProgressStyleModel",
          "model_module_version": "1.5.0",
          "state": {
            "_model_module": "@jupyter-widgets/controls",
            "_model_module_version": "1.5.0",
            "_model_name": "ProgressStyleModel",
            "_view_count": null,
            "_view_module": "@jupyter-widgets/base",
            "_view_module_version": "1.2.0",
            "_view_name": "StyleView",
            "bar_color": null,
            "description_width": ""
          }
        },
        "dff27461dd704fa88a00edcbf21379fc": {
          "model_module": "@jupyter-widgets/base",
          "model_name": "LayoutModel",
          "model_module_version": "1.2.0",
          "state": {
            "_model_module": "@jupyter-widgets/base",
            "_model_module_version": "1.2.0",
            "_model_name": "LayoutModel",
            "_view_count": null,
            "_view_module": "@jupyter-widgets/base",
            "_view_module_version": "1.2.0",
            "_view_name": "LayoutView",
            "align_content": null,
            "align_items": null,
            "align_self": null,
            "border": null,
            "bottom": null,
            "display": null,
            "flex": null,
            "flex_flow": null,
            "grid_area": null,
            "grid_auto_columns": null,
            "grid_auto_flow": null,
            "grid_auto_rows": null,
            "grid_column": null,
            "grid_gap": null,
            "grid_row": null,
            "grid_template_areas": null,
            "grid_template_columns": null,
            "grid_template_rows": null,
            "height": null,
            "justify_content": null,
            "justify_items": null,
            "left": null,
            "margin": null,
            "max_height": null,
            "max_width": null,
            "min_height": null,
            "min_width": null,
            "object_fit": null,
            "object_position": null,
            "order": null,
            "overflow": null,
            "overflow_x": null,
            "overflow_y": null,
            "padding": null,
            "right": null,
            "top": null,
            "visibility": null,
            "width": null
          }
        },
        "55519ff0b224431d959f143fe1d56303": {
          "model_module": "@jupyter-widgets/controls",
          "model_name": "DescriptionStyleModel",
          "model_module_version": "1.5.0",
          "state": {
            "_model_module": "@jupyter-widgets/controls",
            "_model_module_version": "1.5.0",
            "_model_name": "DescriptionStyleModel",
            "_view_count": null,
            "_view_module": "@jupyter-widgets/base",
            "_view_module_version": "1.2.0",
            "_view_name": "StyleView",
            "description_width": ""
          }
        },
        "0b642072414347a7bf659783b7802e95": {
          "model_module": "@jupyter-widgets/controls",
          "model_name": "HBoxModel",
          "model_module_version": "1.5.0",
          "state": {
            "_dom_classes": [],
            "_model_module": "@jupyter-widgets/controls",
            "_model_module_version": "1.5.0",
            "_model_name": "HBoxModel",
            "_view_count": null,
            "_view_module": "@jupyter-widgets/controls",
            "_view_module_version": "1.5.0",
            "_view_name": "HBoxView",
            "box_style": "",
            "children": [
              "IPY_MODEL_143afec407ec40548fcab4c7ca1e244a",
              "IPY_MODEL_6e92816531a94e259ee59c84e6e8555b",
              "IPY_MODEL_bbf31fb0565c4202ba8ddd0e4b130bf9"
            ],
            "layout": "IPY_MODEL_539322c24634476895366755e66cc889"
          }
        },
        "143afec407ec40548fcab4c7ca1e244a": {
          "model_module": "@jupyter-widgets/controls",
          "model_name": "HTMLModel",
          "model_module_version": "1.5.0",
          "state": {
            "_dom_classes": [],
            "_model_module": "@jupyter-widgets/controls",
            "_model_module_version": "1.5.0",
            "_model_name": "HTMLModel",
            "_view_count": null,
            "_view_module": "@jupyter-widgets/controls",
            "_view_module_version": "1.5.0",
            "_view_name": "HTMLView",
            "description": "",
            "description_tooltip": null,
            "layout": "IPY_MODEL_2b09a3b478bd4a8ca57b44b17a27e9a8",
            "placeholder": "​",
            "style": "IPY_MODEL_345c008f6f704371abc0c60797f0ec7b",
            "value": "Downloading (…)/main/tokenizer.json: 100%"
          }
        },
        "6e92816531a94e259ee59c84e6e8555b": {
          "model_module": "@jupyter-widgets/controls",
          "model_name": "FloatProgressModel",
          "model_module_version": "1.5.0",
          "state": {
            "_dom_classes": [],
            "_model_module": "@jupyter-widgets/controls",
            "_model_module_version": "1.5.0",
            "_model_name": "FloatProgressModel",
            "_view_count": null,
            "_view_module": "@jupyter-widgets/controls",
            "_view_module_version": "1.5.0",
            "_view_name": "ProgressView",
            "bar_style": "success",
            "description": "",
            "description_tooltip": null,
            "layout": "IPY_MODEL_340fb28aa56142d595db70cf3ac649ac",
            "max": 466062,
            "min": 0,
            "orientation": "horizontal",
            "style": "IPY_MODEL_eb65ac3d609142bf9863034197c49694",
            "value": 466062
          }
        },
        "bbf31fb0565c4202ba8ddd0e4b130bf9": {
          "model_module": "@jupyter-widgets/controls",
          "model_name": "HTMLModel",
          "model_module_version": "1.5.0",
          "state": {
            "_dom_classes": [],
            "_model_module": "@jupyter-widgets/controls",
            "_model_module_version": "1.5.0",
            "_model_name": "HTMLModel",
            "_view_count": null,
            "_view_module": "@jupyter-widgets/controls",
            "_view_module_version": "1.5.0",
            "_view_name": "HTMLView",
            "description": "",
            "description_tooltip": null,
            "layout": "IPY_MODEL_19e0d1dd4b914f1aac33d61581086b6c",
            "placeholder": "​",
            "style": "IPY_MODEL_07078908c89f46a78c3655f8a9e68bb9",
            "value": " 466k/466k [00:00&lt;00:00, 4.26MB/s]"
          }
        },
        "539322c24634476895366755e66cc889": {
          "model_module": "@jupyter-widgets/base",
          "model_name": "LayoutModel",
          "model_module_version": "1.2.0",
          "state": {
            "_model_module": "@jupyter-widgets/base",
            "_model_module_version": "1.2.0",
            "_model_name": "LayoutModel",
            "_view_count": null,
            "_view_module": "@jupyter-widgets/base",
            "_view_module_version": "1.2.0",
            "_view_name": "LayoutView",
            "align_content": null,
            "align_items": null,
            "align_self": null,
            "border": null,
            "bottom": null,
            "display": null,
            "flex": null,
            "flex_flow": null,
            "grid_area": null,
            "grid_auto_columns": null,
            "grid_auto_flow": null,
            "grid_auto_rows": null,
            "grid_column": null,
            "grid_gap": null,
            "grid_row": null,
            "grid_template_areas": null,
            "grid_template_columns": null,
            "grid_template_rows": null,
            "height": null,
            "justify_content": null,
            "justify_items": null,
            "left": null,
            "margin": null,
            "max_height": null,
            "max_width": null,
            "min_height": null,
            "min_width": null,
            "object_fit": null,
            "object_position": null,
            "order": null,
            "overflow": null,
            "overflow_x": null,
            "overflow_y": null,
            "padding": null,
            "right": null,
            "top": null,
            "visibility": null,
            "width": null
          }
        },
        "2b09a3b478bd4a8ca57b44b17a27e9a8": {
          "model_module": "@jupyter-widgets/base",
          "model_name": "LayoutModel",
          "model_module_version": "1.2.0",
          "state": {
            "_model_module": "@jupyter-widgets/base",
            "_model_module_version": "1.2.0",
            "_model_name": "LayoutModel",
            "_view_count": null,
            "_view_module": "@jupyter-widgets/base",
            "_view_module_version": "1.2.0",
            "_view_name": "LayoutView",
            "align_content": null,
            "align_items": null,
            "align_self": null,
            "border": null,
            "bottom": null,
            "display": null,
            "flex": null,
            "flex_flow": null,
            "grid_area": null,
            "grid_auto_columns": null,
            "grid_auto_flow": null,
            "grid_auto_rows": null,
            "grid_column": null,
            "grid_gap": null,
            "grid_row": null,
            "grid_template_areas": null,
            "grid_template_columns": null,
            "grid_template_rows": null,
            "height": null,
            "justify_content": null,
            "justify_items": null,
            "left": null,
            "margin": null,
            "max_height": null,
            "max_width": null,
            "min_height": null,
            "min_width": null,
            "object_fit": null,
            "object_position": null,
            "order": null,
            "overflow": null,
            "overflow_x": null,
            "overflow_y": null,
            "padding": null,
            "right": null,
            "top": null,
            "visibility": null,
            "width": null
          }
        },
        "345c008f6f704371abc0c60797f0ec7b": {
          "model_module": "@jupyter-widgets/controls",
          "model_name": "DescriptionStyleModel",
          "model_module_version": "1.5.0",
          "state": {
            "_model_module": "@jupyter-widgets/controls",
            "_model_module_version": "1.5.0",
            "_model_name": "DescriptionStyleModel",
            "_view_count": null,
            "_view_module": "@jupyter-widgets/base",
            "_view_module_version": "1.2.0",
            "_view_name": "StyleView",
            "description_width": ""
          }
        },
        "340fb28aa56142d595db70cf3ac649ac": {
          "model_module": "@jupyter-widgets/base",
          "model_name": "LayoutModel",
          "model_module_version": "1.2.0",
          "state": {
            "_model_module": "@jupyter-widgets/base",
            "_model_module_version": "1.2.0",
            "_model_name": "LayoutModel",
            "_view_count": null,
            "_view_module": "@jupyter-widgets/base",
            "_view_module_version": "1.2.0",
            "_view_name": "LayoutView",
            "align_content": null,
            "align_items": null,
            "align_self": null,
            "border": null,
            "bottom": null,
            "display": null,
            "flex": null,
            "flex_flow": null,
            "grid_area": null,
            "grid_auto_columns": null,
            "grid_auto_flow": null,
            "grid_auto_rows": null,
            "grid_column": null,
            "grid_gap": null,
            "grid_row": null,
            "grid_template_areas": null,
            "grid_template_columns": null,
            "grid_template_rows": null,
            "height": null,
            "justify_content": null,
            "justify_items": null,
            "left": null,
            "margin": null,
            "max_height": null,
            "max_width": null,
            "min_height": null,
            "min_width": null,
            "object_fit": null,
            "object_position": null,
            "order": null,
            "overflow": null,
            "overflow_x": null,
            "overflow_y": null,
            "padding": null,
            "right": null,
            "top": null,
            "visibility": null,
            "width": null
          }
        },
        "eb65ac3d609142bf9863034197c49694": {
          "model_module": "@jupyter-widgets/controls",
          "model_name": "ProgressStyleModel",
          "model_module_version": "1.5.0",
          "state": {
            "_model_module": "@jupyter-widgets/controls",
            "_model_module_version": "1.5.0",
            "_model_name": "ProgressStyleModel",
            "_view_count": null,
            "_view_module": "@jupyter-widgets/base",
            "_view_module_version": "1.2.0",
            "_view_name": "StyleView",
            "bar_color": null,
            "description_width": ""
          }
        },
        "19e0d1dd4b914f1aac33d61581086b6c": {
          "model_module": "@jupyter-widgets/base",
          "model_name": "LayoutModel",
          "model_module_version": "1.2.0",
          "state": {
            "_model_module": "@jupyter-widgets/base",
            "_model_module_version": "1.2.0",
            "_model_name": "LayoutModel",
            "_view_count": null,
            "_view_module": "@jupyter-widgets/base",
            "_view_module_version": "1.2.0",
            "_view_name": "LayoutView",
            "align_content": null,
            "align_items": null,
            "align_self": null,
            "border": null,
            "bottom": null,
            "display": null,
            "flex": null,
            "flex_flow": null,
            "grid_area": null,
            "grid_auto_columns": null,
            "grid_auto_flow": null,
            "grid_auto_rows": null,
            "grid_column": null,
            "grid_gap": null,
            "grid_row": null,
            "grid_template_areas": null,
            "grid_template_columns": null,
            "grid_template_rows": null,
            "height": null,
            "justify_content": null,
            "justify_items": null,
            "left": null,
            "margin": null,
            "max_height": null,
            "max_width": null,
            "min_height": null,
            "min_width": null,
            "object_fit": null,
            "object_position": null,
            "order": null,
            "overflow": null,
            "overflow_x": null,
            "overflow_y": null,
            "padding": null,
            "right": null,
            "top": null,
            "visibility": null,
            "width": null
          }
        },
        "07078908c89f46a78c3655f8a9e68bb9": {
          "model_module": "@jupyter-widgets/controls",
          "model_name": "DescriptionStyleModel",
          "model_module_version": "1.5.0",
          "state": {
            "_model_module": "@jupyter-widgets/controls",
            "_model_module_version": "1.5.0",
            "_model_name": "DescriptionStyleModel",
            "_view_count": null,
            "_view_module": "@jupyter-widgets/base",
            "_view_module_version": "1.2.0",
            "_view_name": "StyleView",
            "description_width": ""
          }
        },
        "fa7be248eb734763b5317831a40f0977": {
          "model_module": "@jupyter-widgets/controls",
          "model_name": "HBoxModel",
          "model_module_version": "1.5.0",
          "state": {
            "_dom_classes": [],
            "_model_module": "@jupyter-widgets/controls",
            "_model_module_version": "1.5.0",
            "_model_name": "HBoxModel",
            "_view_count": null,
            "_view_module": "@jupyter-widgets/controls",
            "_view_module_version": "1.5.0",
            "_view_name": "HBoxView",
            "box_style": "",
            "children": [
              "IPY_MODEL_b55fd611e2964da8b9920c56a8e0a063",
              "IPY_MODEL_849be727000042e08cf7f0447668c915",
              "IPY_MODEL_b3847b266c9a4a46b3a44f3802a7ebb4"
            ],
            "layout": "IPY_MODEL_e6869969ca964b8294a535f075781feb"
          }
        },
        "b55fd611e2964da8b9920c56a8e0a063": {
          "model_module": "@jupyter-widgets/controls",
          "model_name": "HTMLModel",
          "model_module_version": "1.5.0",
          "state": {
            "_dom_classes": [],
            "_model_module": "@jupyter-widgets/controls",
            "_model_module_version": "1.5.0",
            "_model_name": "HTMLModel",
            "_view_count": null,
            "_view_module": "@jupyter-widgets/controls",
            "_view_module_version": "1.5.0",
            "_view_name": "HTMLView",
            "description": "",
            "description_tooltip": null,
            "layout": "IPY_MODEL_b310084cbeec44008c776e8f8d71c0bd",
            "placeholder": "​",
            "style": "IPY_MODEL_0385b922dfd74f72a86de97be3726550",
            "value": "Downloading tf_model.h5: 100%"
          }
        },
        "849be727000042e08cf7f0447668c915": {
          "model_module": "@jupyter-widgets/controls",
          "model_name": "FloatProgressModel",
          "model_module_version": "1.5.0",
          "state": {
            "_dom_classes": [],
            "_model_module": "@jupyter-widgets/controls",
            "_model_module_version": "1.5.0",
            "_model_name": "FloatProgressModel",
            "_view_count": null,
            "_view_module": "@jupyter-widgets/controls",
            "_view_module_version": "1.5.0",
            "_view_name": "ProgressView",
            "bar_style": "success",
            "description": "",
            "description_tooltip": null,
            "layout": "IPY_MODEL_6bec9061c4af477190a0e4d29906d8a1",
            "max": 363423424,
            "min": 0,
            "orientation": "horizontal",
            "style": "IPY_MODEL_1b1afff05ec14d52abbe6ed0fa99bcce",
            "value": 363423424
          }
        },
        "b3847b266c9a4a46b3a44f3802a7ebb4": {
          "model_module": "@jupyter-widgets/controls",
          "model_name": "HTMLModel",
          "model_module_version": "1.5.0",
          "state": {
            "_dom_classes": [],
            "_model_module": "@jupyter-widgets/controls",
            "_model_module_version": "1.5.0",
            "_model_name": "HTMLModel",
            "_view_count": null,
            "_view_module": "@jupyter-widgets/controls",
            "_view_module_version": "1.5.0",
            "_view_name": "HTMLView",
            "description": "",
            "description_tooltip": null,
            "layout": "IPY_MODEL_b6226f72c40a4ec499754a93eb862de1",
            "placeholder": "​",
            "style": "IPY_MODEL_6f48caa6592441d2850a21d7377d873a",
            "value": " 363M/363M [00:04&lt;00:00, 79.4MB/s]"
          }
        },
        "e6869969ca964b8294a535f075781feb": {
          "model_module": "@jupyter-widgets/base",
          "model_name": "LayoutModel",
          "model_module_version": "1.2.0",
          "state": {
            "_model_module": "@jupyter-widgets/base",
            "_model_module_version": "1.2.0",
            "_model_name": "LayoutModel",
            "_view_count": null,
            "_view_module": "@jupyter-widgets/base",
            "_view_module_version": "1.2.0",
            "_view_name": "LayoutView",
            "align_content": null,
            "align_items": null,
            "align_self": null,
            "border": null,
            "bottom": null,
            "display": null,
            "flex": null,
            "flex_flow": null,
            "grid_area": null,
            "grid_auto_columns": null,
            "grid_auto_flow": null,
            "grid_auto_rows": null,
            "grid_column": null,
            "grid_gap": null,
            "grid_row": null,
            "grid_template_areas": null,
            "grid_template_columns": null,
            "grid_template_rows": null,
            "height": null,
            "justify_content": null,
            "justify_items": null,
            "left": null,
            "margin": null,
            "max_height": null,
            "max_width": null,
            "min_height": null,
            "min_width": null,
            "object_fit": null,
            "object_position": null,
            "order": null,
            "overflow": null,
            "overflow_x": null,
            "overflow_y": null,
            "padding": null,
            "right": null,
            "top": null,
            "visibility": null,
            "width": null
          }
        },
        "b310084cbeec44008c776e8f8d71c0bd": {
          "model_module": "@jupyter-widgets/base",
          "model_name": "LayoutModel",
          "model_module_version": "1.2.0",
          "state": {
            "_model_module": "@jupyter-widgets/base",
            "_model_module_version": "1.2.0",
            "_model_name": "LayoutModel",
            "_view_count": null,
            "_view_module": "@jupyter-widgets/base",
            "_view_module_version": "1.2.0",
            "_view_name": "LayoutView",
            "align_content": null,
            "align_items": null,
            "align_self": null,
            "border": null,
            "bottom": null,
            "display": null,
            "flex": null,
            "flex_flow": null,
            "grid_area": null,
            "grid_auto_columns": null,
            "grid_auto_flow": null,
            "grid_auto_rows": null,
            "grid_column": null,
            "grid_gap": null,
            "grid_row": null,
            "grid_template_areas": null,
            "grid_template_columns": null,
            "grid_template_rows": null,
            "height": null,
            "justify_content": null,
            "justify_items": null,
            "left": null,
            "margin": null,
            "max_height": null,
            "max_width": null,
            "min_height": null,
            "min_width": null,
            "object_fit": null,
            "object_position": null,
            "order": null,
            "overflow": null,
            "overflow_x": null,
            "overflow_y": null,
            "padding": null,
            "right": null,
            "top": null,
            "visibility": null,
            "width": null
          }
        },
        "0385b922dfd74f72a86de97be3726550": {
          "model_module": "@jupyter-widgets/controls",
          "model_name": "DescriptionStyleModel",
          "model_module_version": "1.5.0",
          "state": {
            "_model_module": "@jupyter-widgets/controls",
            "_model_module_version": "1.5.0",
            "_model_name": "DescriptionStyleModel",
            "_view_count": null,
            "_view_module": "@jupyter-widgets/base",
            "_view_module_version": "1.2.0",
            "_view_name": "StyleView",
            "description_width": ""
          }
        },
        "6bec9061c4af477190a0e4d29906d8a1": {
          "model_module": "@jupyter-widgets/base",
          "model_name": "LayoutModel",
          "model_module_version": "1.2.0",
          "state": {
            "_model_module": "@jupyter-widgets/base",
            "_model_module_version": "1.2.0",
            "_model_name": "LayoutModel",
            "_view_count": null,
            "_view_module": "@jupyter-widgets/base",
            "_view_module_version": "1.2.0",
            "_view_name": "LayoutView",
            "align_content": null,
            "align_items": null,
            "align_self": null,
            "border": null,
            "bottom": null,
            "display": null,
            "flex": null,
            "flex_flow": null,
            "grid_area": null,
            "grid_auto_columns": null,
            "grid_auto_flow": null,
            "grid_auto_rows": null,
            "grid_column": null,
            "grid_gap": null,
            "grid_row": null,
            "grid_template_areas": null,
            "grid_template_columns": null,
            "grid_template_rows": null,
            "height": null,
            "justify_content": null,
            "justify_items": null,
            "left": null,
            "margin": null,
            "max_height": null,
            "max_width": null,
            "min_height": null,
            "min_width": null,
            "object_fit": null,
            "object_position": null,
            "order": null,
            "overflow": null,
            "overflow_x": null,
            "overflow_y": null,
            "padding": null,
            "right": null,
            "top": null,
            "visibility": null,
            "width": null
          }
        },
        "1b1afff05ec14d52abbe6ed0fa99bcce": {
          "model_module": "@jupyter-widgets/controls",
          "model_name": "ProgressStyleModel",
          "model_module_version": "1.5.0",
          "state": {
            "_model_module": "@jupyter-widgets/controls",
            "_model_module_version": "1.5.0",
            "_model_name": "ProgressStyleModel",
            "_view_count": null,
            "_view_module": "@jupyter-widgets/base",
            "_view_module_version": "1.2.0",
            "_view_name": "StyleView",
            "bar_color": null,
            "description_width": ""
          }
        },
        "b6226f72c40a4ec499754a93eb862de1": {
          "model_module": "@jupyter-widgets/base",
          "model_name": "LayoutModel",
          "model_module_version": "1.2.0",
          "state": {
            "_model_module": "@jupyter-widgets/base",
            "_model_module_version": "1.2.0",
            "_model_name": "LayoutModel",
            "_view_count": null,
            "_view_module": "@jupyter-widgets/base",
            "_view_module_version": "1.2.0",
            "_view_name": "LayoutView",
            "align_content": null,
            "align_items": null,
            "align_self": null,
            "border": null,
            "bottom": null,
            "display": null,
            "flex": null,
            "flex_flow": null,
            "grid_area": null,
            "grid_auto_columns": null,
            "grid_auto_flow": null,
            "grid_auto_rows": null,
            "grid_column": null,
            "grid_gap": null,
            "grid_row": null,
            "grid_template_areas": null,
            "grid_template_columns": null,
            "grid_template_rows": null,
            "height": null,
            "justify_content": null,
            "justify_items": null,
            "left": null,
            "margin": null,
            "max_height": null,
            "max_width": null,
            "min_height": null,
            "min_width": null,
            "object_fit": null,
            "object_position": null,
            "order": null,
            "overflow": null,
            "overflow_x": null,
            "overflow_y": null,
            "padding": null,
            "right": null,
            "top": null,
            "visibility": null,
            "width": null
          }
        },
        "6f48caa6592441d2850a21d7377d873a": {
          "model_module": "@jupyter-widgets/controls",
          "model_name": "DescriptionStyleModel",
          "model_module_version": "1.5.0",
          "state": {
            "_model_module": "@jupyter-widgets/controls",
            "_model_module_version": "1.5.0",
            "_model_name": "DescriptionStyleModel",
            "_view_count": null,
            "_view_module": "@jupyter-widgets/base",
            "_view_module_version": "1.2.0",
            "_view_name": "StyleView",
            "description_width": ""
          }
        }
      }
    }
  },
  "cells": [
    {
      "cell_type": "markdown",
      "metadata": {
        "id": "view-in-github",
        "colab_type": "text"
      },
      "source": [
        "<a href=\"https://colab.research.google.com/github/PrateekCoder/NLP_Zero_To_Hero/blob/main/NLP_Zero_to_Hero.ipynb\" target=\"_parent\"><img src=\"https://colab.research.google.com/assets/colab-badge.svg\" alt=\"Open In Colab\"/></a>"
      ]
    },
    {
      "cell_type": "code",
      "execution_count": 17,
      "metadata": {
        "colab": {
          "base_uri": "https://localhost:8080/"
        },
        "id": "qhrJ1JXw9Ew5",
        "outputId": "b7364b04-d54c-4e85-ddca-4924e90b3c98"
      },
      "outputs": [
        {
          "output_type": "stream",
          "name": "stdout",
          "text": [
            "Drive already mounted at /content/gdrive; to attempt to forcibly remount, call drive.mount(\"/content/gdrive\", force_remount=True).\n"
          ]
        }
      ],
      "source": [
        "from google.colab import drive\n",
        "drive.mount('/content/gdrive')"
      ]
    },
    {
      "cell_type": "code",
      "source": [
        "import pandas as pd"
      ],
      "metadata": {
        "id": "55BfDc5b94wW"
      },
      "execution_count": 18,
      "outputs": []
    },
    {
      "cell_type": "code",
      "source": [
        "!pip install transformers"
      ],
      "metadata": {
        "colab": {
          "base_uri": "https://localhost:8080/"
        },
        "id": "ryJI127zqUJC",
        "outputId": "1f0800f5-2702-4d57-b1d8-a46e15b8ece6"
      },
      "execution_count": 3,
      "outputs": [
        {
          "output_type": "stream",
          "name": "stdout",
          "text": [
            "Looking in indexes: https://pypi.org/simple, https://us-python.pkg.dev/colab-wheels/public/simple/\n",
            "Requirement already satisfied: transformers in /usr/local/lib/python3.9/dist-packages (4.27.2)\n",
            "Requirement already satisfied: filelock in /usr/local/lib/python3.9/dist-packages (from transformers) (3.10.0)\n",
            "Requirement already satisfied: tqdm>=4.27 in /usr/local/lib/python3.9/dist-packages (from transformers) (4.65.0)\n",
            "Requirement already satisfied: requests in /usr/local/lib/python3.9/dist-packages (from transformers) (2.27.1)\n",
            "Requirement already satisfied: packaging>=20.0 in /usr/local/lib/python3.9/dist-packages (from transformers) (23.0)\n",
            "Requirement already satisfied: pyyaml>=5.1 in /usr/local/lib/python3.9/dist-packages (from transformers) (6.0)\n",
            "Requirement already satisfied: huggingface-hub<1.0,>=0.11.0 in /usr/local/lib/python3.9/dist-packages (from transformers) (0.13.3)\n",
            "Requirement already satisfied: regex!=2019.12.17 in /usr/local/lib/python3.9/dist-packages (from transformers) (2022.10.31)\n",
            "Requirement already satisfied: tokenizers!=0.11.3,<0.14,>=0.11.1 in /usr/local/lib/python3.9/dist-packages (from transformers) (0.13.2)\n",
            "Requirement already satisfied: numpy>=1.17 in /usr/local/lib/python3.9/dist-packages (from transformers) (1.24.2)\n",
            "Requirement already satisfied: typing-extensions>=3.7.4.3 in /usr/local/lib/python3.9/dist-packages (from huggingface-hub<1.0,>=0.11.0->transformers) (4.5.0)\n",
            "Requirement already satisfied: urllib3<1.27,>=1.21.1 in /usr/local/lib/python3.9/dist-packages (from requests->transformers) (1.26.15)\n",
            "Requirement already satisfied: idna<4,>=2.5 in /usr/local/lib/python3.9/dist-packages (from requests->transformers) (3.4)\n",
            "Requirement already satisfied: certifi>=2017.4.17 in /usr/local/lib/python3.9/dist-packages (from requests->transformers) (2022.12.7)\n",
            "Requirement already satisfied: charset-normalizer~=2.0.0 in /usr/local/lib/python3.9/dist-packages (from requests->transformers) (2.0.12)\n"
          ]
        }
      ]
    },
    {
      "cell_type": "code",
      "source": [
        "!pip install --upgrade gensim"
      ],
      "metadata": {
        "colab": {
          "base_uri": "https://localhost:8080/"
        },
        "id": "IV7_Kib5nfPh",
        "outputId": "8001080e-7df8-4a4d-e2f6-913122c235a9"
      },
      "execution_count": 4,
      "outputs": [
        {
          "output_type": "stream",
          "name": "stdout",
          "text": [
            "Looking in indexes: https://pypi.org/simple, https://us-python.pkg.dev/colab-wheels/public/simple/\n",
            "Requirement already satisfied: gensim in /usr/local/lib/python3.9/dist-packages (4.3.1)\n",
            "Requirement already satisfied: smart-open>=1.8.1 in /usr/local/lib/python3.9/dist-packages (from gensim) (6.3.0)\n",
            "Requirement already satisfied: numpy>=1.18.5 in /usr/local/lib/python3.9/dist-packages (from gensim) (1.24.2)\n",
            "Requirement already satisfied: scipy>=1.7.0 in /usr/local/lib/python3.9/dist-packages (from gensim) (1.10.1)\n"
          ]
        }
      ]
    },
    {
      "cell_type": "code",
      "source": [
        "train = pd.read_csv('gdrive/My Drive/datasets/imdb_sentiment_analysis/Train.csv')\n",
        "test = pd.read_csv('gdrive/My Drive/datasets/imdb_sentiment_analysis/Test.csv')\n",
        "valid = pd.read_csv('gdrive/My Drive/datasets/imdb_sentiment_analysis/Valid.csv')"
      ],
      "metadata": {
        "id": "Pk-TR7zu9Q9C"
      },
      "execution_count": 5,
      "outputs": []
    },
    {
      "cell_type": "code",
      "source": [
        "df = pd.read_csv('gdrive/My Drive/datasets/imdb_sentiment_analysis/IMDB Dataset.csv')"
      ],
      "metadata": {
        "id": "JQPYJ5yLUOQc"
      },
      "execution_count": 6,
      "outputs": []
    },
    {
      "cell_type": "markdown",
      "source": [
        "## Text Pre-Processing"
      ],
      "metadata": {
        "id": "CD6PAEj6-2Fn"
      }
    },
    {
      "cell_type": "code",
      "source": [
        "import re\n",
        "import nltk\n",
        "from nltk.corpus import stopwords\n",
        "from nltk.tokenize import word_tokenize\n",
        "from nltk.stem import WordNetLemmatizer"
      ],
      "metadata": {
        "id": "6TyCc5CT-Buy"
      },
      "execution_count": 7,
      "outputs": []
    },
    {
      "cell_type": "code",
      "source": [
        "# Download required NLTK resources if not already downloaded\n",
        "nltk.download('punkt')\n",
        "nltk.download('stopwords')\n",
        "nltk.download('wordnet')"
      ],
      "metadata": {
        "colab": {
          "base_uri": "https://localhost:8080/"
        },
        "id": "dTXc4-Ld-8Qw",
        "outputId": "7a311598-c315-4a84-f2cb-f921196a39f8"
      },
      "execution_count": 8,
      "outputs": [
        {
          "output_type": "stream",
          "name": "stderr",
          "text": [
            "[nltk_data] Downloading package punkt to /root/nltk_data...\n",
            "[nltk_data]   Package punkt is already up-to-date!\n",
            "[nltk_data] Downloading package stopwords to /root/nltk_data...\n",
            "[nltk_data]   Package stopwords is already up-to-date!\n",
            "[nltk_data] Downloading package wordnet to /root/nltk_data...\n",
            "[nltk_data]   Package wordnet is already up-to-date!\n"
          ]
        },
        {
          "output_type": "execute_result",
          "data": {
            "text/plain": [
              "True"
            ]
          },
          "metadata": {},
          "execution_count": 8
        }
      ]
    },
    {
      "cell_type": "code",
      "source": [
        "def preprocess_text(text):\n",
        "    #print(\"Original Text:\", text)\n",
        "\n",
        "    # Remove HTML tags\n",
        "    text = re.sub('<[^>]*>', '', text)\n",
        "\n",
        "    print(\"Text after removing HTML tags:\", text)\n",
        "\n",
        "    # Remove non-alphabetic characters and convert to lowercase\n",
        "    text = re.sub('[^a-zA-Z]', ' ', text).lower()\n",
        "\n",
        "    print(\"Text after removing non-alphabetic characters and converting to lowercase:\", text)\n",
        "\n",
        "    # Tokenize the text\n",
        "    words = word_tokenize(text)\n",
        "\n",
        "    print(\"Text after tokenization:\", words)\n",
        "\n",
        "    # Remove stopwords\n",
        "    stop_words = set(stopwords.words('english'))\n",
        "    words = [word for word in words if word not in stop_words]\n",
        "\n",
        "    print(\"Text after removing stop words:\", words)\n",
        "\n",
        "    # Lemmatize the words\n",
        "    lemmatizer = WordNetLemmatizer()\n",
        "    words = [lemmatizer.lemmatize(word) for word in words]\n",
        "\n",
        "    print(\"Text after Lemmatization:\", words)\n",
        "\n",
        "    # Combine words back into a single string\n",
        "    preprocessed_text = ' '.join(words)\n",
        "\n",
        "    print(\"Final pre-processed text:\", preprocessed_text)\n",
        "\n",
        "    return preprocessed_text"
      ],
      "metadata": {
        "id": "anuwAEOE_C7H"
      },
      "execution_count": 20,
      "outputs": []
    },
    {
      "cell_type": "code",
      "source": [
        "preprocess_text(\"This is Prateek Gaurav, I am making this video:, related to <NLP>. I WILL BE explaining all the techniques used in NLP and about RNN.\")"
      ],
      "metadata": {
        "colab": {
          "base_uri": "https://localhost:8080/",
          "height": 163
        },
        "id": "7O9-PHaj_Hpo",
        "outputId": "99fedb81-0f7f-4809-a35f-0cc65e5d8075"
      },
      "execution_count": 21,
      "outputs": [
        {
          "output_type": "stream",
          "name": "stdout",
          "text": [
            "Text after removing HTML tags: This is Prateek Gaurav, I am making this video:, related to . I WILL BE explaining all the techniques used in NLP and about RNN.\n",
            "Text after removing non-alphabetic characters and converting to lowercase: this is prateek gaurav  i am making this video   related to   i will be explaining all the techniques used in nlp and about rnn \n",
            "Text after tokenization: ['this', 'is', 'prateek', 'gaurav', 'i', 'am', 'making', 'this', 'video', 'related', 'to', 'i', 'will', 'be', 'explaining', 'all', 'the', 'techniques', 'used', 'in', 'nlp', 'and', 'about', 'rnn']\n",
            "Text after removing stop words: ['prateek', 'gaurav', 'making', 'video', 'related', 'explaining', 'techniques', 'used', 'nlp', 'rnn']\n",
            "Text after Lemmatization: ['prateek', 'gaurav', 'making', 'video', 'related', 'explaining', 'technique', 'used', 'nlp', 'rnn']\n",
            "Final pre-processed text: prateek gaurav making video related explaining technique used nlp rnn\n"
          ]
        },
        {
          "output_type": "execute_result",
          "data": {
            "text/plain": [
              "'prateek gaurav making video related explaining technique used nlp rnn'"
            ],
            "application/vnd.google.colaboratory.intrinsic+json": {
              "type": "string"
            }
          },
          "metadata": {},
          "execution_count": 21
        }
      ]
    },
    {
      "cell_type": "markdown",
      "source": [
        "## Pre-Processing Our Data"
      ],
      "metadata": {
        "id": "_-tT1lTHbiwg"
      }
    },
    {
      "cell_type": "code",
      "source": [
        "%%time\n",
        "train['preprocessed_text'] = train['text'].apply(preprocess_text)\n",
        "test['preprocessed_text'] = test['text'].apply(preprocess_text)\n",
        "valid['preprocessed_text'] = valid['text'].apply(preprocess_text)\n",
        "df['preprocessed_text'] = df['review'].apply(preprocess_text)"
      ],
      "metadata": {
        "colab": {
          "base_uri": "https://localhost:8080/"
        },
        "id": "WjlT8FPx_7UY",
        "outputId": "9e731b5e-d03a-4d3b-aba0-000ff740350c"
      },
      "execution_count": 11,
      "outputs": [
        {
          "output_type": "stream",
          "name": "stdout",
          "text": [
            "CPU times: user 2min 21s, sys: 2.33 s, total: 2min 23s\n",
            "Wall time: 2min 22s\n"
          ]
        }
      ]
    },
    {
      "cell_type": "code",
      "source": [
        "train"
      ],
      "metadata": {
        "colab": {
          "base_uri": "https://localhost:8080/",
          "height": 424
        },
        "id": "_hshr0B9d5rz",
        "outputId": "60401065-0976-4ed3-fbee-1913b0895fa7"
      },
      "execution_count": 22,
      "outputs": [
        {
          "output_type": "execute_result",
          "data": {
            "text/plain": [
              "                                                    text  label  \\\n",
              "0      I grew up (b. 1965) watching and loving the Th...      0   \n",
              "1      When I put this movie in my DVD player, and sa...      0   \n",
              "2      Why do people who do not know what a particula...      0   \n",
              "3      Even though I have great interest in Biblical ...      0   \n",
              "4      Im a die hard Dads Army fan and nothing will e...      1   \n",
              "...                                                  ...    ...   \n",
              "39995  \"Western Union\" is something of a forgotten cl...      1   \n",
              "39996  This movie is an incredible piece of work. It ...      1   \n",
              "39997  My wife and I watched this movie because we pl...      0   \n",
              "39998  When I first watched Flatliners, I was amazed....      1   \n",
              "39999  Why would this film be so good, but only gross...      1   \n",
              "\n",
              "                                       preprocessed_text  \n",
              "0      grew b watching loving thunderbird mate school...  \n",
              "1      put movie dvd player sat coke chip expectation...  \n",
              "2      people know particular time past like feel nee...  \n",
              "3      even though great interest biblical movie bore...  \n",
              "4      im die hard dad army fan nothing ever change g...  \n",
              "...                                                  ...  \n",
              "39995  western union something forgotten classic west...  \n",
              "39996  movie incredible piece work explores every noo...  \n",
              "39997  wife watched movie plan visit sicily stromboli...  \n",
              "39998  first watched flatliners amazed necessary feat...  \n",
              "39999  would film good gross estimated award nominati...  \n",
              "\n",
              "[40000 rows x 3 columns]"
            ],
            "text/html": [
              "\n",
              "  <div id=\"df-016896c3-9521-4ccf-b109-26aa7a5c3f20\">\n",
              "    <div class=\"colab-df-container\">\n",
              "      <div>\n",
              "<style scoped>\n",
              "    .dataframe tbody tr th:only-of-type {\n",
              "        vertical-align: middle;\n",
              "    }\n",
              "\n",
              "    .dataframe tbody tr th {\n",
              "        vertical-align: top;\n",
              "    }\n",
              "\n",
              "    .dataframe thead th {\n",
              "        text-align: right;\n",
              "    }\n",
              "</style>\n",
              "<table border=\"1\" class=\"dataframe\">\n",
              "  <thead>\n",
              "    <tr style=\"text-align: right;\">\n",
              "      <th></th>\n",
              "      <th>text</th>\n",
              "      <th>label</th>\n",
              "      <th>preprocessed_text</th>\n",
              "    </tr>\n",
              "  </thead>\n",
              "  <tbody>\n",
              "    <tr>\n",
              "      <th>0</th>\n",
              "      <td>I grew up (b. 1965) watching and loving the Th...</td>\n",
              "      <td>0</td>\n",
              "      <td>grew b watching loving thunderbird mate school...</td>\n",
              "    </tr>\n",
              "    <tr>\n",
              "      <th>1</th>\n",
              "      <td>When I put this movie in my DVD player, and sa...</td>\n",
              "      <td>0</td>\n",
              "      <td>put movie dvd player sat coke chip expectation...</td>\n",
              "    </tr>\n",
              "    <tr>\n",
              "      <th>2</th>\n",
              "      <td>Why do people who do not know what a particula...</td>\n",
              "      <td>0</td>\n",
              "      <td>people know particular time past like feel nee...</td>\n",
              "    </tr>\n",
              "    <tr>\n",
              "      <th>3</th>\n",
              "      <td>Even though I have great interest in Biblical ...</td>\n",
              "      <td>0</td>\n",
              "      <td>even though great interest biblical movie bore...</td>\n",
              "    </tr>\n",
              "    <tr>\n",
              "      <th>4</th>\n",
              "      <td>Im a die hard Dads Army fan and nothing will e...</td>\n",
              "      <td>1</td>\n",
              "      <td>im die hard dad army fan nothing ever change g...</td>\n",
              "    </tr>\n",
              "    <tr>\n",
              "      <th>...</th>\n",
              "      <td>...</td>\n",
              "      <td>...</td>\n",
              "      <td>...</td>\n",
              "    </tr>\n",
              "    <tr>\n",
              "      <th>39995</th>\n",
              "      <td>\"Western Union\" is something of a forgotten cl...</td>\n",
              "      <td>1</td>\n",
              "      <td>western union something forgotten classic west...</td>\n",
              "    </tr>\n",
              "    <tr>\n",
              "      <th>39996</th>\n",
              "      <td>This movie is an incredible piece of work. It ...</td>\n",
              "      <td>1</td>\n",
              "      <td>movie incredible piece work explores every noo...</td>\n",
              "    </tr>\n",
              "    <tr>\n",
              "      <th>39997</th>\n",
              "      <td>My wife and I watched this movie because we pl...</td>\n",
              "      <td>0</td>\n",
              "      <td>wife watched movie plan visit sicily stromboli...</td>\n",
              "    </tr>\n",
              "    <tr>\n",
              "      <th>39998</th>\n",
              "      <td>When I first watched Flatliners, I was amazed....</td>\n",
              "      <td>1</td>\n",
              "      <td>first watched flatliners amazed necessary feat...</td>\n",
              "    </tr>\n",
              "    <tr>\n",
              "      <th>39999</th>\n",
              "      <td>Why would this film be so good, but only gross...</td>\n",
              "      <td>1</td>\n",
              "      <td>would film good gross estimated award nominati...</td>\n",
              "    </tr>\n",
              "  </tbody>\n",
              "</table>\n",
              "<p>40000 rows × 3 columns</p>\n",
              "</div>\n",
              "      <button class=\"colab-df-convert\" onclick=\"convertToInteractive('df-016896c3-9521-4ccf-b109-26aa7a5c3f20')\"\n",
              "              title=\"Convert this dataframe to an interactive table.\"\n",
              "              style=\"display:none;\">\n",
              "        \n",
              "  <svg xmlns=\"http://www.w3.org/2000/svg\" height=\"24px\"viewBox=\"0 0 24 24\"\n",
              "       width=\"24px\">\n",
              "    <path d=\"M0 0h24v24H0V0z\" fill=\"none\"/>\n",
              "    <path d=\"M18.56 5.44l.94 2.06.94-2.06 2.06-.94-2.06-.94-.94-2.06-.94 2.06-2.06.94zm-11 1L8.5 8.5l.94-2.06 2.06-.94-2.06-.94L8.5 2.5l-.94 2.06-2.06.94zm10 10l.94 2.06.94-2.06 2.06-.94-2.06-.94-.94-2.06-.94 2.06-2.06.94z\"/><path d=\"M17.41 7.96l-1.37-1.37c-.4-.4-.92-.59-1.43-.59-.52 0-1.04.2-1.43.59L10.3 9.45l-7.72 7.72c-.78.78-.78 2.05 0 2.83L4 21.41c.39.39.9.59 1.41.59.51 0 1.02-.2 1.41-.59l7.78-7.78 2.81-2.81c.8-.78.8-2.07 0-2.86zM5.41 20L4 18.59l7.72-7.72 1.47 1.35L5.41 20z\"/>\n",
              "  </svg>\n",
              "      </button>\n",
              "      \n",
              "  <style>\n",
              "    .colab-df-container {\n",
              "      display:flex;\n",
              "      flex-wrap:wrap;\n",
              "      gap: 12px;\n",
              "    }\n",
              "\n",
              "    .colab-df-convert {\n",
              "      background-color: #E8F0FE;\n",
              "      border: none;\n",
              "      border-radius: 50%;\n",
              "      cursor: pointer;\n",
              "      display: none;\n",
              "      fill: #1967D2;\n",
              "      height: 32px;\n",
              "      padding: 0 0 0 0;\n",
              "      width: 32px;\n",
              "    }\n",
              "\n",
              "    .colab-df-convert:hover {\n",
              "      background-color: #E2EBFA;\n",
              "      box-shadow: 0px 1px 2px rgba(60, 64, 67, 0.3), 0px 1px 3px 1px rgba(60, 64, 67, 0.15);\n",
              "      fill: #174EA6;\n",
              "    }\n",
              "\n",
              "    [theme=dark] .colab-df-convert {\n",
              "      background-color: #3B4455;\n",
              "      fill: #D2E3FC;\n",
              "    }\n",
              "\n",
              "    [theme=dark] .colab-df-convert:hover {\n",
              "      background-color: #434B5C;\n",
              "      box-shadow: 0px 1px 3px 1px rgba(0, 0, 0, 0.15);\n",
              "      filter: drop-shadow(0px 1px 2px rgba(0, 0, 0, 0.3));\n",
              "      fill: #FFFFFF;\n",
              "    }\n",
              "  </style>\n",
              "\n",
              "      <script>\n",
              "        const buttonEl =\n",
              "          document.querySelector('#df-016896c3-9521-4ccf-b109-26aa7a5c3f20 button.colab-df-convert');\n",
              "        buttonEl.style.display =\n",
              "          google.colab.kernel.accessAllowed ? 'block' : 'none';\n",
              "\n",
              "        async function convertToInteractive(key) {\n",
              "          const element = document.querySelector('#df-016896c3-9521-4ccf-b109-26aa7a5c3f20');\n",
              "          const dataTable =\n",
              "            await google.colab.kernel.invokeFunction('convertToInteractive',\n",
              "                                                     [key], {});\n",
              "          if (!dataTable) return;\n",
              "\n",
              "          const docLinkHtml = 'Like what you see? Visit the ' +\n",
              "            '<a target=\"_blank\" href=https://colab.research.google.com/notebooks/data_table.ipynb>data table notebook</a>'\n",
              "            + ' to learn more about interactive tables.';\n",
              "          element.innerHTML = '';\n",
              "          dataTable['output_type'] = 'display_data';\n",
              "          await google.colab.output.renderOutput(dataTable, element);\n",
              "          const docLink = document.createElement('div');\n",
              "          docLink.innerHTML = docLinkHtml;\n",
              "          element.appendChild(docLink);\n",
              "        }\n",
              "      </script>\n",
              "    </div>\n",
              "  </div>\n",
              "  "
            ]
          },
          "metadata": {},
          "execution_count": 22
        }
      ]
    },
    {
      "cell_type": "markdown",
      "source": [
        "## Using BOW, Tf-IDF & Word2Vec with SVM"
      ],
      "metadata": {
        "id": "e0UUQ4msbnIG"
      }
    },
    {
      "cell_type": "code",
      "source": [
        "import numpy as np\n",
        "from sklearn.feature_extraction.text import CountVectorizer, TfidfVectorizer\n",
        "from sklearn.svm import SVC\n",
        "from sklearn.metrics import accuracy_score\n",
        "from gensim.models import Word2Vec\n",
        "\n",
        "def train_svm_with_representations(train_data, test_data, representation):\n",
        "    if representation == 'bow':\n",
        "        vectorizer = CountVectorizer()\n",
        "    elif representation == 'tfidf':\n",
        "        vectorizer = TfidfVectorizer()\n",
        "    else:\n",
        "        raise ValueError(\"Invalid representation. Choose 'bow' or 'tfidf'.\")\n",
        "\n",
        "    X_train = vectorizer.fit_transform(train_data)\n",
        "    X_test = vectorizer.transform(test_data)\n",
        "\n",
        "    clf = SVC()\n",
        "    clf.fit(X_train, y_train)\n",
        "    y_pred = clf.predict(X_test)\n",
        "\n",
        "    return y_pred\n",
        "\n",
        "def get_word2vec_embeddings(data):\n",
        "    tokenized_sentences = [sentence.split() for sentence in data]\n",
        "    model = Word2Vec(tokenized_sentences, vector_size=100, window=5, min_count=1, workers=4)\n",
        "    embeddings = np.array([np.mean([model.wv[word] for word in sentence], axis=0) for sentence in tokenized_sentences])\n",
        "\n",
        "    return embeddings\n",
        "\n",
        "def train_svm_with_word2vec(train_data, test_data):\n",
        "    X_train = get_word2vec_embeddings(train_data)\n",
        "    X_test = get_word2vec_embeddings(test_data)\n",
        "\n",
        "    clf = SVC()\n",
        "    clf.fit(X_train, y_train)\n",
        "    y_pred = clf.predict(X_test)\n",
        "\n",
        "    return y_pred"
      ],
      "metadata": {
        "id": "wdmD4hRzBw1K"
      },
      "execution_count": null,
      "outputs": []
    },
    {
      "cell_type": "code",
      "source": [
        "X_train = train['preprocessed_text']\n",
        "y_train = train['label']\n",
        "X_test = test['preprocessed_text']\n",
        "y_test = test['label']"
      ],
      "metadata": {
        "id": "wcoUvXoKC00d"
      },
      "execution_count": null,
      "outputs": []
    },
    {
      "cell_type": "code",
      "source": [
        "%%time\n",
        "# Bag of Words\n",
        "y_pred_bow = train_svm_with_representations(X_train, X_test, 'bow')\n",
        "accuracy_bow = accuracy_score(y_test, y_pred_bow)\n",
        "print(accuracy_bow)"
      ],
      "metadata": {
        "colab": {
          "base_uri": "https://localhost:8080/"
        },
        "id": "RLckL3zPC2oN",
        "outputId": "5e36de3e-6309-488e-a9f2-e67a5cfa3274"
      },
      "execution_count": null,
      "outputs": [
        {
          "output_type": "stream",
          "name": "stdout",
          "text": [
            "0.8804\n",
            "CPU times: user 50min 5s, sys: 3.78 s, total: 50min 9s\n",
            "Wall time: 50min 20s\n"
          ]
        }
      ]
    },
    {
      "cell_type": "code",
      "source": [
        "%%time\n",
        "# TF-IDF\n",
        "y_pred_tfidf = train_svm_with_representations(X_train, X_test, 'tfidf')\n",
        "accuracy_tfidf = accuracy_score(y_test, y_pred_tfidf)\n",
        "print(accuracy_tfidf)"
      ],
      "metadata": {
        "colab": {
          "base_uri": "https://localhost:8080/"
        },
        "id": "Jb7Tiwcpn8KT",
        "outputId": "258edee9-5fcf-4afa-f62e-5124c3ea5150"
      },
      "execution_count": null,
      "outputs": [
        {
          "output_type": "stream",
          "name": "stdout",
          "text": [
            "0.9004\n",
            "CPU times: user 1h 6min 58s, sys: 3.39 s, total: 1h 7min 1s\n",
            "Wall time: 1h 7min 21s\n"
          ]
        }
      ]
    },
    {
      "cell_type": "code",
      "source": [
        "%%time\n",
        "# Word2Vec\n",
        "y_pred_word2vec = train_svm_with_word2vec(X_train, X_test)\n",
        "accuracy_word2vec = accuracy_score(y_test, y_pred_word2vec)\n",
        "print(accuracy_word2vec)"
      ],
      "metadata": {
        "colab": {
          "base_uri": "https://localhost:8080/"
        },
        "id": "z9twM5jkn8My",
        "outputId": "8c8dca35-5a10-49dd-9643-98da1c5f7377"
      },
      "execution_count": null,
      "outputs": [
        {
          "output_type": "stream",
          "name": "stdout",
          "text": [
            "0.4992\n",
            "CPU times: user 3min 43s, sys: 1.09 s, total: 3min 44s\n",
            "Wall time: 3min 15s\n"
          ]
        }
      ]
    },
    {
      "cell_type": "markdown",
      "source": [
        "The Word2Vec models performed very bad compared to BOW or TF-IDF, but theoretically it should perform better that bow and tf-idf, this is because we will need to train our word2vec model in a better way, try more data, try to play with different hyperparameters. This is computationally expensive process and it is always a good idea to use pretrained models. I will be using Google News 300 pretrained model here and see how that performs."
      ],
      "metadata": {
        "id": "k3JnI1U2Ndsp"
      }
    },
    {
      "cell_type": "code",
      "source": [
        "import gensim.downloader as api\n",
        "\n",
        "def get_google_word2vec_embeddings(data):\n",
        "    # Load the Google News Word2Vec model\n",
        "    model = api.load(\"word2vec-google-news-300\")\n",
        "\n",
        "    tokenized_sentences = [sentence.split() for sentence in data]\n",
        "    embeddings = []\n",
        "\n",
        "    for sentence in tokenized_sentences:\n",
        "        sentence_embeddings = []\n",
        "        for word in sentence:\n",
        "            if word in model:\n",
        "                sentence_embeddings.append(model[word])\n",
        "        if sentence_embeddings:\n",
        "            embeddings.append(np.mean(sentence_embeddings, axis=0))\n",
        "        else:\n",
        "            embeddings.append(np.zeros(300))\n",
        "\n",
        "    return np.array(embeddings)"
      ],
      "metadata": {
        "id": "kSHv0_QaJCk2"
      },
      "execution_count": null,
      "outputs": []
    },
    {
      "cell_type": "code",
      "source": [
        "def train_svm_with_google_word2vec(train_data, test_data):\n",
        "    X_train = get_google_word2vec_embeddings(train_data)\n",
        "    X_test = get_google_word2vec_embeddings(test_data)\n",
        "\n",
        "    clf = SVC()\n",
        "    clf.fit(X_train, y_train)\n",
        "    y_pred = clf.predict(X_test)\n",
        "\n",
        "    return y_pred"
      ],
      "metadata": {
        "id": "Qm-YrXsyOVlC"
      },
      "execution_count": null,
      "outputs": []
    },
    {
      "cell_type": "code",
      "source": [
        "# Google News Word2Vec\n",
        "y_pred_google_word2vec = train_svm_with_google_word2vec(X_train, X_test)\n",
        "accuracy_google_word2vec = accuracy_score(y_test, y_pred_google_word2vec)\n",
        "print(accuracy_google_word2vec)"
      ],
      "metadata": {
        "colab": {
          "base_uri": "https://localhost:8080/"
        },
        "id": "Xw8Ldvf5OVpe",
        "outputId": "58019cd7-d43a-48c5-afa4-d837cb83c636"
      },
      "execution_count": null,
      "outputs": [
        {
          "output_type": "stream",
          "name": "stdout",
          "text": [
            "[=================================================-] 99.7% 1657.5/1662.8MB downloaded\n",
            "0.8574\n"
          ]
        }
      ]
    },
    {
      "cell_type": "markdown",
      "source": [
        "## Vanilla RNN Model"
      ],
      "metadata": {
        "id": "K_grJPHWbyrL"
      }
    },
    {
      "cell_type": "code",
      "source": [
        "import numpy as np\n",
        "import tensorflow as tf\n",
        "from tensorflow.keras.models import Sequential\n",
        "from tensorflow.keras.layers import SimpleRNN, Dense, Embedding\n",
        "from tensorflow.keras.preprocessing.text import Tokenizer\n",
        "from tensorflow.keras.preprocessing.sequence import pad_sequences\n",
        "from tensorflow.keras.utils import to_categorical\n",
        "\n",
        "# Preparing the data\n",
        "max_words = 10000\n",
        "max_len = 100\n",
        "tokenizer = Tokenizer(num_words=max_words)\n",
        "tokenizer.fit_on_texts(train['preprocessed_text'])\n",
        "\n",
        "X_train = tokenizer.texts_to_sequences(train['preprocessed_text'])\n",
        "X_test = tokenizer.texts_to_sequences(test['preprocessed_text'])\n",
        "X_valid = tokenizer.texts_to_sequences(valid['preprocessed_text'])\n",
        "\n",
        "X_train = pad_sequences(X_train, maxlen=max_len)\n",
        "X_test = pad_sequences(X_test, maxlen=max_len)\n",
        "X_valid = pad_sequences(X_valid, maxlen=max_len)\n",
        "\n",
        "y_train = to_categorical(train['label'])\n",
        "y_test = to_categorical(test['label'])\n",
        "y_valid = to_categorical(valid['label'])\n",
        "\n",
        "# Build the model\n",
        "model = Sequential()\n",
        "model.add(Embedding(max_words, 128, input_length=max_len))\n",
        "model.add(SimpleRNN(64))\n",
        "model.add(Dense(2, activation='softmax'))\n",
        "\n",
        "# Compile the model\n",
        "model.compile(optimizer='adam', loss='categorical_crossentropy', metrics=['accuracy'])\n",
        "\n",
        "# Train the model\n",
        "history = model.fit(X_train, y_train, validation_data=(X_valid, y_valid), epochs=25, batch_size=128)\n",
        "\n",
        "# Evaluate the model\n",
        "loss, accuracy = model.evaluate(X_test, y_test)\n",
        "\n",
        "print(\"Test accuracy:\", accuracy)"
      ],
      "metadata": {
        "colab": {
          "base_uri": "https://localhost:8080/"
        },
        "id": "KsSI7C_sOVxJ",
        "outputId": "cb826093-518e-4821-d25f-ddfb489a2661"
      },
      "execution_count": null,
      "outputs": [
        {
          "output_type": "stream",
          "name": "stdout",
          "text": [
            "Epoch 1/25\n",
            "313/313 [==============================] - 34s 102ms/step - loss: 0.4548 - accuracy: 0.7643 - val_loss: 0.3274 - val_accuracy: 0.8680\n",
            "Epoch 2/25\n",
            "313/313 [==============================] - 26s 84ms/step - loss: 0.2462 - accuracy: 0.9033 - val_loss: 0.3395 - val_accuracy: 0.8732\n",
            "Epoch 3/25\n",
            "313/313 [==============================] - 26s 84ms/step - loss: 0.1336 - accuracy: 0.9509 - val_loss: 0.4242 - val_accuracy: 0.8520\n",
            "Epoch 4/25\n",
            "313/313 [==============================] - 28s 90ms/step - loss: 0.0427 - accuracy: 0.9866 - val_loss: 0.5871 - val_accuracy: 0.8242\n",
            "Epoch 5/25\n",
            "313/313 [==============================] - 25s 80ms/step - loss: 0.0184 - accuracy: 0.9948 - val_loss: 0.6792 - val_accuracy: 0.8214\n",
            "Epoch 6/25\n",
            "313/313 [==============================] - 28s 90ms/step - loss: 0.0121 - accuracy: 0.9968 - val_loss: 0.7025 - val_accuracy: 0.8452\n",
            "Epoch 7/25\n",
            "313/313 [==============================] - 26s 84ms/step - loss: 0.0152 - accuracy: 0.9953 - val_loss: 0.7363 - val_accuracy: 0.8464\n",
            "Epoch 8/25\n",
            "313/313 [==============================] - 26s 83ms/step - loss: 0.0221 - accuracy: 0.9929 - val_loss: 0.7518 - val_accuracy: 0.8454\n",
            "Epoch 9/25\n",
            "313/313 [==============================] - 27s 88ms/step - loss: 0.0180 - accuracy: 0.9944 - val_loss: 0.7965 - val_accuracy: 0.8526\n",
            "Epoch 10/25\n",
            "313/313 [==============================] - 25s 80ms/step - loss: 0.0125 - accuracy: 0.9959 - val_loss: 0.8537 - val_accuracy: 0.8534\n",
            "Epoch 11/25\n",
            "313/313 [==============================] - 28s 90ms/step - loss: 0.0104 - accuracy: 0.9967 - val_loss: 0.8891 - val_accuracy: 0.8356\n",
            "Epoch 12/25\n",
            "313/313 [==============================] - 27s 85ms/step - loss: 0.0085 - accuracy: 0.9972 - val_loss: 0.9055 - val_accuracy: 0.8410\n",
            "Epoch 13/25\n",
            "313/313 [==============================] - 26s 83ms/step - loss: 0.0115 - accuracy: 0.9960 - val_loss: 0.9066 - val_accuracy: 0.8418\n",
            "Epoch 14/25\n",
            "313/313 [==============================] - 28s 89ms/step - loss: 0.0157 - accuracy: 0.9950 - val_loss: 1.0567 - val_accuracy: 0.7758\n",
            "Epoch 15/25\n",
            "313/313 [==============================] - 29s 91ms/step - loss: 0.0106 - accuracy: 0.9965 - val_loss: 0.9452 - val_accuracy: 0.8446\n",
            "Epoch 16/25\n",
            "313/313 [==============================] - 28s 89ms/step - loss: 0.0073 - accuracy: 0.9977 - val_loss: 1.0991 - val_accuracy: 0.7906\n",
            "Epoch 17/25\n",
            "313/313 [==============================] - 26s 84ms/step - loss: 0.0281 - accuracy: 0.9907 - val_loss: 0.9042 - val_accuracy: 0.8352\n",
            "Epoch 18/25\n",
            "313/313 [==============================] - 27s 86ms/step - loss: 0.0105 - accuracy: 0.9966 - val_loss: 0.9909 - val_accuracy: 0.8448\n",
            "Epoch 19/25\n",
            "313/313 [==============================] - 28s 91ms/step - loss: 0.0035 - accuracy: 0.9991 - val_loss: 1.2387 - val_accuracy: 0.7792\n",
            "Epoch 20/25\n",
            "313/313 [==============================] - 25s 81ms/step - loss: 0.0043 - accuracy: 0.9987 - val_loss: 1.1842 - val_accuracy: 0.7896\n",
            "Epoch 21/25\n",
            "313/313 [==============================] - 30s 95ms/step - loss: 0.0086 - accuracy: 0.9974 - val_loss: 1.1172 - val_accuracy: 0.8166\n",
            "Epoch 22/25\n",
            "313/313 [==============================] - 34s 108ms/step - loss: 0.0069 - accuracy: 0.9980 - val_loss: 1.1102 - val_accuracy: 0.8252\n",
            "Epoch 23/25\n",
            "313/313 [==============================] - 28s 89ms/step - loss: 0.0092 - accuracy: 0.9975 - val_loss: 1.1374 - val_accuracy: 0.7972\n",
            "Epoch 24/25\n",
            "313/313 [==============================] - 26s 84ms/step - loss: 0.0097 - accuracy: 0.9966 - val_loss: 1.1633 - val_accuracy: 0.7978\n",
            "Epoch 25/25\n",
            "313/313 [==============================] - 28s 90ms/step - loss: 0.0094 - accuracy: 0.9973 - val_loss: 1.1052 - val_accuracy: 0.8308\n",
            "157/157 [==============================] - 2s 13ms/step - loss: 1.1193 - accuracy: 0.8234\n",
            "Test accuracy: 0.8234000205993652\n"
          ]
        }
      ]
    },
    {
      "cell_type": "markdown",
      "source": [
        "Testing with DF which is not already split adds a dropout layer after the RNN layer, which helps to prevent overfitting. The model is also set up to use early stopping based on validation loss, which will stop training if the validation loss does not improve for a certain number of epochs."
      ],
      "metadata": {
        "id": "tkI0iMYhWrRB"
      }
    },
    {
      "cell_type": "code",
      "source": [
        "import numpy as np\n",
        "import tensorflow as tf\n",
        "from tensorflow.keras.models import Sequential\n",
        "from tensorflow.keras.layers import SimpleRNN, Dense, Embedding, Dropout\n",
        "from tensorflow.keras.preprocessing.text import Tokenizer\n",
        "from tensorflow.keras.preprocessing.sequence import pad_sequences\n",
        "from tensorflow.keras.utils import to_categorical\n",
        "from sklearn.model_selection import train_test_split\n",
        "from tensorflow.keras.callbacks import EarlyStopping\n",
        "from sklearn.preprocessing import LabelEncoder\n",
        "\n",
        "# Label encode the target variable\n",
        "le = LabelEncoder()\n",
        "df['sentiment'] = le.fit_transform(df['sentiment'])\n",
        "\n",
        "# Split into train, test and validation sets\n",
        "X_train, X_test, y_train, y_test = train_test_split(df['review'], df['sentiment'], test_size=0.2, random_state=42)\n",
        "X_train, X_valid, y_train, y_valid = train_test_split(X_train, y_train, test_size=0.2, random_state=42)\n",
        "\n",
        "# Tokenize the data\n",
        "max_words = 10000\n",
        "max_len = 100\n",
        "tokenizer = Tokenizer(num_words=max_words)\n",
        "tokenizer.fit_on_texts(X_train)\n",
        "\n",
        "X_train = tokenizer.texts_to_sequences(X_train)\n",
        "X_test = tokenizer.texts_to_sequences(X_test)\n",
        "X_valid = tokenizer.texts_to_sequences(X_valid)\n",
        "\n",
        "X_train = pad_sequences(X_train, maxlen=max_len)\n",
        "X_test = pad_sequences(X_test, maxlen=max_len)\n",
        "X_valid = pad_sequences(X_valid, maxlen=max_len)\n",
        "\n",
        "# Create the model\n",
        "model = Sequential()\n",
        "model.add(Embedding(max_words, 128, input_length=max_len))\n",
        "model.add(SimpleRNN(64))\n",
        "model.add(Dropout(0.5))\n",
        "model.add(Dense(2, activation='softmax'))\n",
        "\n",
        "# Compile the model\n",
        "model.compile(optimizer='adam', loss='categorical_crossentropy', metrics=['accuracy'])\n",
        "\n",
        "# Set up early stopping\n",
        "early_stop = EarlyStopping(monitor='val_loss', patience=10, restore_best_weights=True)\n",
        "\n",
        "# Train the model\n",
        "history = model.fit(X_train, to_categorical(y_train), validation_data=(X_valid, to_categorical(y_valid)), \n",
        "                    epochs=25, batch_size=128, callbacks=[early_stop])\n",
        "\n",
        "# Evaluate the model\n",
        "loss, accuracy = model.evaluate(X_test, to_categorical(y_test))\n",
        "\n",
        "print(\"Test accuracy:\", accuracy)"
      ],
      "metadata": {
        "colab": {
          "base_uri": "https://localhost:8080/"
        },
        "id": "XHtd0FcvWrff",
        "outputId": "602f4915-7067-4701-91ab-e118592d3fac"
      },
      "execution_count": 18,
      "outputs": [
        {
          "output_type": "stream",
          "name": "stdout",
          "text": [
            "Epoch 1/25\n",
            "250/250 [==============================] - 9s 31ms/step - loss: 0.4980 - accuracy: 0.7410 - val_loss: 0.3522 - val_accuracy: 0.8533\n",
            "Epoch 2/25\n",
            "250/250 [==============================] - 7s 29ms/step - loss: 0.2956 - accuracy: 0.8812 - val_loss: 0.3383 - val_accuracy: 0.8614\n",
            "Epoch 3/25\n",
            "250/250 [==============================] - 7s 29ms/step - loss: 0.1889 - accuracy: 0.9307 - val_loss: 0.4156 - val_accuracy: 0.8461\n",
            "Epoch 4/25\n",
            "250/250 [==============================] - 7s 29ms/step - loss: 0.0877 - accuracy: 0.9703 - val_loss: 0.5292 - val_accuracy: 0.8303\n",
            "Epoch 5/25\n",
            "250/250 [==============================] - 7s 29ms/step - loss: 0.0487 - accuracy: 0.9831 - val_loss: 0.6432 - val_accuracy: 0.8261\n",
            "Epoch 6/25\n",
            "250/250 [==============================] - 7s 30ms/step - loss: 0.0381 - accuracy: 0.9868 - val_loss: 0.6976 - val_accuracy: 0.8346\n",
            "Epoch 7/25\n",
            "250/250 [==============================] - 7s 29ms/step - loss: 0.0404 - accuracy: 0.9859 - val_loss: 0.7521 - val_accuracy: 0.8195\n",
            "Epoch 8/25\n",
            "250/250 [==============================] - 7s 30ms/step - loss: 0.0269 - accuracy: 0.9908 - val_loss: 0.8161 - val_accuracy: 0.8354\n",
            "Epoch 9/25\n",
            "250/250 [==============================] - 7s 29ms/step - loss: 0.0211 - accuracy: 0.9933 - val_loss: 0.9058 - val_accuracy: 0.8291\n",
            "Epoch 10/25\n",
            "250/250 [==============================] - 7s 30ms/step - loss: 0.0238 - accuracy: 0.9926 - val_loss: 0.9262 - val_accuracy: 0.8341\n",
            "Epoch 11/25\n",
            "250/250 [==============================] - 7s 29ms/step - loss: 0.0236 - accuracy: 0.9923 - val_loss: 0.9426 - val_accuracy: 0.8126\n",
            "Epoch 12/25\n",
            "250/250 [==============================] - 7s 29ms/step - loss: 0.0249 - accuracy: 0.9918 - val_loss: 1.0179 - val_accuracy: 0.7929\n",
            "313/313 [==============================] - 2s 6ms/step - loss: 0.3440 - accuracy: 0.8564\n",
            "Test accuracy: 0.8564000129699707\n"
          ]
        }
      ]
    },
    {
      "cell_type": "markdown",
      "source": [
        "## LSTM Model"
      ],
      "metadata": {
        "id": "xtNfieLYb_o-"
      }
    },
    {
      "cell_type": "code",
      "source": [
        "import numpy as np\n",
        "import tensorflow as tf\n",
        "from tensorflow.keras.models import Sequential\n",
        "from tensorflow.keras.layers import LSTM, Dense, Embedding\n",
        "from tensorflow.keras.preprocessing.text import Tokenizer\n",
        "from tensorflow.keras.preprocessing.sequence import pad_sequences\n",
        "from tensorflow.keras.utils import to_categorical\n",
        "\n",
        "# Preparing the data\n",
        "max_words = 10000\n",
        "max_len = 100\n",
        "tokenizer = Tokenizer(num_words=max_words)\n",
        "tokenizer.fit_on_texts(train['preprocessed_text'])\n",
        "\n",
        "X_train = tokenizer.texts_to_sequences(train['preprocessed_text'])\n",
        "X_test = tokenizer.texts_to_sequences(test['preprocessed_text'])\n",
        "X_valid = tokenizer.texts_to_sequences(valid['preprocessed_text'])\n",
        "\n",
        "X_train = pad_sequences(X_train, maxlen=max_len)\n",
        "X_test = pad_sequences(X_test, maxlen=max_len)\n",
        "X_valid = pad_sequences(X_valid, maxlen=max_len)\n",
        "\n",
        "y_train = to_categorical(train['label'])\n",
        "y_test = to_categorical(test['label'])\n",
        "y_valid = to_categorical(valid['label'])\n",
        "\n",
        "# Build the model\n",
        "model = Sequential()\n",
        "model.add(Embedding(max_words, 128, input_length=max_len))\n",
        "model.add(LSTM(64))\n",
        "model.add(Dense(2, activation='softmax'))\n",
        "\n",
        "# Compile the model\n",
        "model.compile(optimizer='adam', loss='categorical_crossentropy', metrics=['accuracy'])\n",
        "\n",
        "# Train the model\n",
        "history = model.fit(X_train, y_train, validation_data=(X_valid, y_valid), epochs=10, batch_size=128)\n",
        "\n",
        "# Evaluate the model\n",
        "loss, accuracy = model.evaluate(X_test, y_test)\n",
        "\n",
        "print(\"Test accuracy:\", accuracy)"
      ],
      "metadata": {
        "colab": {
          "base_uri": "https://localhost:8080/"
        },
        "id": "_0sMyJRdTh4X",
        "outputId": "488f6882-8391-436f-a08f-dfd3153ef4c5"
      },
      "execution_count": null,
      "outputs": [
        {
          "output_type": "stream",
          "name": "stdout",
          "text": [
            "Epoch 1/10\n",
            "313/313 [==============================] - 85s 264ms/step - loss: 0.3573 - accuracy: 0.8403 - val_loss: 0.3008 - val_accuracy: 0.8754\n",
            "Epoch 2/10\n",
            "313/313 [==============================] - 81s 259ms/step - loss: 0.2191 - accuracy: 0.9153 - val_loss: 0.2933 - val_accuracy: 0.8840\n",
            "Epoch 3/10\n",
            "313/313 [==============================] - 83s 265ms/step - loss: 0.1615 - accuracy: 0.9393 - val_loss: 0.3346 - val_accuracy: 0.8768\n",
            "Epoch 4/10\n",
            "313/313 [==============================] - 82s 263ms/step - loss: 0.1147 - accuracy: 0.9581 - val_loss: 0.3781 - val_accuracy: 0.8688\n",
            "Epoch 5/10\n",
            "313/313 [==============================] - 82s 263ms/step - loss: 0.0892 - accuracy: 0.9690 - val_loss: 0.4818 - val_accuracy: 0.8654\n",
            "Epoch 6/10\n",
            "313/313 [==============================] - 85s 272ms/step - loss: 0.0697 - accuracy: 0.9766 - val_loss: 0.5939 - val_accuracy: 0.8604\n",
            "Epoch 7/10\n",
            "313/313 [==============================] - 82s 262ms/step - loss: 0.0471 - accuracy: 0.9844 - val_loss: 0.6234 - val_accuracy: 0.8596\n",
            "Epoch 8/10\n",
            "313/313 [==============================] - 83s 266ms/step - loss: 0.0369 - accuracy: 0.9884 - val_loss: 0.6236 - val_accuracy: 0.8596\n",
            "Epoch 9/10\n",
            "313/313 [==============================] - 82s 262ms/step - loss: 0.0294 - accuracy: 0.9907 - val_loss: 0.6915 - val_accuracy: 0.8590\n",
            "Epoch 10/10\n",
            "313/313 [==============================] - 84s 270ms/step - loss: 0.0209 - accuracy: 0.9940 - val_loss: 0.7678 - val_accuracy: 0.8474\n",
            "157/157 [==============================] - 3s 21ms/step - loss: 0.7137 - accuracy: 0.8544\n",
            "Test accuracy: 0.8543999791145325\n"
          ]
        }
      ]
    },
    {
      "cell_type": "markdown",
      "source": [
        "Testing with DF which is not already split adds a dropout layer after the RNN layer, which helps to prevent overfitting. The model is also set up to use early stopping based on validation loss, which will stop training if the validation loss does not improve for a certain number of epochs."
      ],
      "metadata": {
        "id": "iETagKCdaOe1"
      }
    },
    {
      "cell_type": "code",
      "source": [
        "import numpy as np\n",
        "import tensorflow as tf\n",
        "from tensorflow.keras.models import Sequential\n",
        "from tensorflow.keras.layers import LSTM, Dense, Embedding, Dropout\n",
        "from tensorflow.keras.preprocessing.text import Tokenizer\n",
        "from tensorflow.keras.preprocessing.sequence import pad_sequences\n",
        "from tensorflow.keras.utils import to_categorical\n",
        "from sklearn.model_selection import train_test_split\n",
        "from tensorflow.keras.callbacks import EarlyStopping\n",
        "\n",
        "# Split into train, test and validation sets\n",
        "X_train, X_test, y_train, y_test = train_test_split(df['review'], df['sentiment'], test_size=0.2, random_state=42)\n",
        "X_train, X_valid, y_train, y_valid = train_test_split(X_train, y_train, test_size=0.2, random_state=42)\n",
        "\n",
        "# Tokenize the data\n",
        "max_words = 10000\n",
        "max_len = 100\n",
        "tokenizer = Tokenizer(num_words=max_words)\n",
        "tokenizer.fit_on_texts(X_train)\n",
        "\n",
        "X_train = tokenizer.texts_to_sequences(X_train)\n",
        "X_test = tokenizer.texts_to_sequences(X_test)\n",
        "X_valid = tokenizer.texts_to_sequences(X_valid)\n",
        "\n",
        "X_train = pad_sequences(X_train, maxlen=max_len)\n",
        "X_test = pad_sequences(X_test, maxlen=max_len)\n",
        "X_valid = pad_sequences(X_valid, maxlen=max_len)\n",
        "\n",
        "# Create the model\n",
        "model = Sequential()\n",
        "model.add(Embedding(max_words, 128, input_length=max_len))\n",
        "model.add(LSTM(64))\n",
        "model.add(Dropout(0.5))\n",
        "model.add(Dense(2, activation='softmax'))\n",
        "\n",
        "# Compile the model\n",
        "model.compile(optimizer='adam', loss='categorical_crossentropy', metrics=['accuracy'])\n",
        "\n",
        "# Set up early stopping\n",
        "early_stop = EarlyStopping(monitor='val_loss', patience=5, restore_best_weights=True)\n",
        "\n",
        "# Train the model\n",
        "history = model.fit(X_train, to_categorical(y_train), validation_data=(X_valid, to_categorical(y_valid)),\n",
        "                    epochs=10, batch_size=128, callbacks=[early_stop])\n",
        "\n",
        "# Evaluate the model\n",
        "loss, accuracy = model.evaluate(X_test, to_categorical(y_test))\n",
        "\n",
        "print(\"Test accuracy:\", accuracy)"
      ],
      "metadata": {
        "colab": {
          "base_uri": "https://localhost:8080/"
        },
        "id": "0BuOYceTaOn3",
        "outputId": "6359939e-d6c5-4eb4-9160-522ea5a6a9d5"
      },
      "execution_count": 21,
      "outputs": [
        {
          "output_type": "stream",
          "name": "stdout",
          "text": [
            "Epoch 1/10\n",
            "250/250 [==============================] - 22s 83ms/step - loss: 0.4161 - accuracy: 0.7999 - val_loss: 0.3090 - val_accuracy: 0.8719\n",
            "Epoch 2/10\n",
            "250/250 [==============================] - 20s 81ms/step - loss: 0.2656 - accuracy: 0.8940 - val_loss: 0.3153 - val_accuracy: 0.8654\n",
            "Epoch 3/10\n",
            "250/250 [==============================] - 21s 84ms/step - loss: 0.2047 - accuracy: 0.9207 - val_loss: 0.3478 - val_accuracy: 0.8600\n",
            "Epoch 4/10\n",
            "250/250 [==============================] - 21s 82ms/step - loss: 0.1581 - accuracy: 0.9404 - val_loss: 0.4014 - val_accuracy: 0.8601\n",
            "Epoch 5/10\n",
            "250/250 [==============================] - 21s 84ms/step - loss: 0.1210 - accuracy: 0.9560 - val_loss: 0.5088 - val_accuracy: 0.8510\n",
            "Epoch 6/10\n",
            "250/250 [==============================] - 21s 83ms/step - loss: 0.0961 - accuracy: 0.9647 - val_loss: 0.5651 - val_accuracy: 0.8469\n",
            "313/313 [==============================] - 4s 14ms/step - loss: 0.3134 - accuracy: 0.8640\n",
            "Test accuracy: 0.8640000224113464\n"
          ]
        }
      ]
    },
    {
      "cell_type": "markdown",
      "source": [
        "## GRU Model"
      ],
      "metadata": {
        "id": "vFKYpHbzb7a8"
      }
    },
    {
      "cell_type": "code",
      "source": [
        "import numpy as np\n",
        "import tensorflow as tf\n",
        "from tensorflow.keras.models import Sequential\n",
        "from tensorflow.keras.layers import GRU, Dense, Embedding\n",
        "from tensorflow.keras.preprocessing.text import Tokenizer\n",
        "from tensorflow.keras.preprocessing.sequence import pad_sequences\n",
        "from tensorflow.keras.utils import to_categorical\n",
        "\n",
        "# Preparing the data\n",
        "max_words = 10000\n",
        "max_len = 100\n",
        "tokenizer = Tokenizer(num_words=max_words)\n",
        "tokenizer.fit_on_texts(train['preprocessed_text'])\n",
        "\n",
        "X_train = tokenizer.texts_to_sequences(train['preprocessed_text'])\n",
        "X_test = tokenizer.texts_to_sequences(test['preprocessed_text'])\n",
        "X_valid = tokenizer.texts_to_sequences(valid['preprocessed_text'])\n",
        "\n",
        "X_train = pad_sequences(X_train, maxlen=max_len)\n",
        "X_test = pad_sequences(X_test, maxlen=max_len)\n",
        "X_valid = pad_sequences(X_valid, maxlen=max_len)\n",
        "\n",
        "y_train = to_categorical(train['label'])\n",
        "y_test = to_categorical(test['label'])\n",
        "y_valid = to_categorical(valid['label'])\n",
        "\n",
        "# Build the model\n",
        "model = Sequential()\n",
        "model.add(Embedding(max_words, 128, input_length=max_len))\n",
        "model.add(GRU(64))\n",
        "model.add(Dense(2, activation='softmax'))\n",
        "\n",
        "# Compile the model\n",
        "model.compile(optimizer='adam', loss='categorical_crossentropy', metrics=['accuracy'])\n",
        "\n",
        "# Train the model\n",
        "history = model.fit(X_train, y_train, validation_data=(X_valid, y_valid), epochs=10, batch_size=128)\n",
        "\n",
        "# Evaluate the model\n",
        "loss, accuracy = model.evaluate(X_test, y_test)\n",
        "\n",
        "print(\"Test accuracy:\", accuracy)"
      ],
      "metadata": {
        "colab": {
          "base_uri": "https://localhost:8080/"
        },
        "id": "QwtG8rMSW-Uh",
        "outputId": "4eadf6b1-5814-408b-ca40-c7eb32c30535"
      },
      "execution_count": null,
      "outputs": [
        {
          "output_type": "stream",
          "name": "stdout",
          "text": [
            "Epoch 1/10\n",
            "313/313 [==============================] - 90s 277ms/step - loss: 0.3725 - accuracy: 0.8233 - val_loss: 0.2882 - val_accuracy: 0.8820\n",
            "Epoch 2/10\n",
            "313/313 [==============================] - 80s 256ms/step - loss: 0.2246 - accuracy: 0.9133 - val_loss: 0.2915 - val_accuracy: 0.8832\n",
            "Epoch 3/10\n",
            "313/313 [==============================] - 77s 246ms/step - loss: 0.1671 - accuracy: 0.9362 - val_loss: 0.3415 - val_accuracy: 0.8764\n",
            "Epoch 4/10\n",
            "313/313 [==============================] - 78s 248ms/step - loss: 0.1237 - accuracy: 0.9555 - val_loss: 0.3938 - val_accuracy: 0.8668\n",
            "Epoch 5/10\n",
            "313/313 [==============================] - 79s 253ms/step - loss: 0.0938 - accuracy: 0.9672 - val_loss: 0.4272 - val_accuracy: 0.8670\n",
            "Epoch 6/10\n",
            "313/313 [==============================] - 79s 252ms/step - loss: 0.0757 - accuracy: 0.9747 - val_loss: 0.5267 - val_accuracy: 0.8646\n",
            "Epoch 7/10\n",
            "313/313 [==============================] - 80s 254ms/step - loss: 0.0615 - accuracy: 0.9794 - val_loss: 0.5645 - val_accuracy: 0.8558\n",
            "Epoch 8/10\n",
            "313/313 [==============================] - 78s 248ms/step - loss: 0.0452 - accuracy: 0.9851 - val_loss: 0.6786 - val_accuracy: 0.8620\n",
            "Epoch 9/10\n",
            "313/313 [==============================] - 74s 236ms/step - loss: 0.0344 - accuracy: 0.9898 - val_loss: 0.7448 - val_accuracy: 0.8548\n",
            "Epoch 10/10\n",
            "313/313 [==============================] - 77s 246ms/step - loss: 0.0286 - accuracy: 0.9913 - val_loss: 0.7819 - val_accuracy: 0.8554\n",
            "157/157 [==============================] - 3s 18ms/step - loss: 0.7381 - accuracy: 0.8606\n",
            "Test accuracy: 0.8605999946594238\n"
          ]
        }
      ]
    },
    {
      "cell_type": "markdown",
      "source": [
        "Testing with DF which is not already split adds a dropout layer after the RNN layer, which helps to prevent overfitting. The model is also set up to use early stopping based on validation loss, which will stop training if the validation loss does not improve for a certain number of epochs."
      ],
      "metadata": {
        "id": "Glrno0X1cEb4"
      }
    },
    {
      "cell_type": "code",
      "source": [
        "import numpy as np\n",
        "import tensorflow as tf\n",
        "from tensorflow.keras.models import Sequential\n",
        "from tensorflow.keras.layers import GRU, Dense, Embedding, Dropout\n",
        "from tensorflow.keras.preprocessing.text import Tokenizer\n",
        "from tensorflow.keras.preprocessing.sequence import pad_sequences\n",
        "from tensorflow.keras.utils import to_categorical\n",
        "from sklearn.model_selection import train_test_split\n",
        "from tensorflow.keras.callbacks import EarlyStopping\n",
        "\n",
        "# Split into train, test and validation sets\n",
        "X_train, X_test, y_train, y_test = train_test_split(df['review'], df['sentiment'], test_size=0.2, random_state=42)\n",
        "X_train, X_valid, y_train, y_valid = train_test_split(X_train, y_train, test_size=0.2, random_state=42)\n",
        "\n",
        "# Tokenize the data\n",
        "max_words = 10000\n",
        "max_len = 100\n",
        "tokenizer = Tokenizer(num_words=max_words)\n",
        "tokenizer.fit_on_texts(X_train)\n",
        "\n",
        "X_train = tokenizer.texts_to_sequences(X_train)\n",
        "X_test = tokenizer.texts_to_sequences(X_test)\n",
        "X_valid = tokenizer.texts_to_sequences(X_valid)\n",
        "\n",
        "X_train = pad_sequences(X_train, maxlen=max_len)\n",
        "X_test = pad_sequences(X_test, maxlen=max_len)\n",
        "X_valid = pad_sequences(X_valid, maxlen=max_len)\n",
        "\n",
        "# Create the model\n",
        "model = Sequential()\n",
        "model.add(Embedding(max_words, 128, input_length=max_len))\n",
        "model.add(GRU(64))\n",
        "model.add(Dropout(0.5))\n",
        "model.add(Dense(2, activation='softmax'))\n",
        "\n",
        "# Compile the model\n",
        "model.compile(optimizer='adam', loss='categorical_crossentropy', metrics=['accuracy'])\n",
        "\n",
        "# Set up early stopping\n",
        "early_stop = EarlyStopping(monitor='val_loss', patience=5, restore_best_weights=True)\n",
        " \n",
        "# Train the model\n",
        "history = model.fit(X_train, to_categorical(y_train), validation_data=(X_valid, to_categorical(y_valid)), \n",
        "                    epochs=25, batch_size=128, callbacks=[early_stop])\n",
        "\n",
        "# Evaluate the model\n",
        "loss, accuracy = model.evaluate(X_test, to_categorical(y_test))\n",
        "\n",
        "print(\"Test accuracy:\", accuracy)"
      ],
      "metadata": {
        "colab": {
          "base_uri": "https://localhost:8080/"
        },
        "id": "Kh_CvTXAcEmu",
        "outputId": "f3aea5b4-a847-4e40-ffeb-bedd54fcbe38"
      },
      "execution_count": 22,
      "outputs": [
        {
          "output_type": "stream",
          "name": "stdout",
          "text": [
            "Epoch 1/25\n",
            "250/250 [==============================] - 20s 72ms/step - loss: 0.4588 - accuracy: 0.7679 - val_loss: 0.3179 - val_accuracy: 0.8629\n",
            "Epoch 2/25\n",
            "250/250 [==============================] - 18s 70ms/step - loss: 0.2699 - accuracy: 0.8907 - val_loss: 0.3211 - val_accuracy: 0.8680\n",
            "Epoch 3/25\n",
            "250/250 [==============================] - 17s 69ms/step - loss: 0.2041 - accuracy: 0.9227 - val_loss: 0.3316 - val_accuracy: 0.8608\n",
            "Epoch 4/25\n",
            "250/250 [==============================] - 18s 70ms/step - loss: 0.1561 - accuracy: 0.9426 - val_loss: 0.4234 - val_accuracy: 0.8551\n",
            "Epoch 5/25\n",
            "250/250 [==============================] - 18s 70ms/step - loss: 0.1186 - accuracy: 0.9571 - val_loss: 0.4981 - val_accuracy: 0.8518\n",
            "Epoch 6/25\n",
            "250/250 [==============================] - 18s 71ms/step - loss: 0.0922 - accuracy: 0.9670 - val_loss: 0.4978 - val_accuracy: 0.8410\n",
            "313/313 [==============================] - 3s 10ms/step - loss: 0.3258 - accuracy: 0.8560\n",
            "Test accuracy: 0.8560000061988831\n"
          ]
        }
      ]
    },
    {
      "cell_type": "markdown",
      "source": [
        "## Bi-Directional LSTM"
      ],
      "metadata": {
        "id": "j9wiRiPUcEzd"
      }
    },
    {
      "cell_type": "code",
      "source": [
        "import numpy as np\n",
        "import tensorflow as tf\n",
        "from tensorflow.keras.models import Sequential\n",
        "from tensorflow.keras.layers import LSTM, Dense, Embedding, Bidirectional\n",
        "from tensorflow.keras.preprocessing.text import Tokenizer\n",
        "from tensorflow.keras.preprocessing.sequence import pad_sequences\n",
        "from tensorflow.keras.utils import to_categorical\n",
        "\n",
        "# Preparing the data\n",
        "max_words = 10000\n",
        "max_len = 100\n",
        "tokenizer = Tokenizer(num_words=max_words)\n",
        "tokenizer.fit_on_texts(train['preprocessed_text'])\n",
        "\n",
        "X_train = tokenizer.texts_to_sequences(train['preprocessed_text'])\n",
        "X_test = tokenizer.texts_to_sequences(test['preprocessed_text'])\n",
        "X_valid = tokenizer.texts_to_sequences(valid['preprocessed_text'])\n",
        "\n",
        "X_train = pad_sequences(X_train, maxlen=max_len)\n",
        "X_test = pad_sequences(X_test, maxlen=max_len)\n",
        "X_valid = pad_sequences(X_valid, maxlen=max_len)\n",
        "\n",
        "y_train = to_categorical(train['label'])\n",
        "y_test = to_categorical(test['label'])\n",
        "y_valid = to_categorical(valid['label'])\n",
        "\n",
        "# Build the model\n",
        "model = Sequential()\n",
        "model.add(Embedding(max_words, 128, input_length=max_len))\n",
        "model.add(Bidirectional(LSTM(64)))\n",
        "model.add(Dense(2, activation='softmax'))\n",
        "\n",
        "# Compile the model\n",
        "model.compile(optimizer='adam', loss='categorical_crossentropy', metrics=['accuracy'])\n",
        "\n",
        "# Train the model\n",
        "history = model.fit(X_train, y_train, validation_data=(X_valid, y_valid), epochs=10, batch_size=128)\n",
        "\n",
        "# Evaluate the model\n",
        "loss, accuracy = model.evaluate(X_test, y_test)\n",
        "\n",
        "print(\"Test accuracy:\", accuracy)"
      ],
      "metadata": {
        "colab": {
          "base_uri": "https://localhost:8080/"
        },
        "id": "sfF9i4znbHZw",
        "outputId": "22b06db9-873b-40de-fb62-4af9c650629a"
      },
      "execution_count": null,
      "outputs": [
        {
          "output_type": "stream",
          "name": "stdout",
          "text": [
            "Epoch 1/10\n",
            "313/313 [==============================] - 32s 91ms/step - loss: 0.3596 - accuracy: 0.8391 - val_loss: 0.2865 - val_accuracy: 0.8830\n",
            "Epoch 2/10\n",
            "313/313 [==============================] - 27s 86ms/step - loss: 0.2197 - accuracy: 0.9141 - val_loss: 0.3032 - val_accuracy: 0.8822\n",
            "Epoch 3/10\n",
            "313/313 [==============================] - 27s 88ms/step - loss: 0.1634 - accuracy: 0.9373 - val_loss: 0.3316 - val_accuracy: 0.8770\n",
            "Epoch 4/10\n",
            "313/313 [==============================] - 27s 88ms/step - loss: 0.1203 - accuracy: 0.9557 - val_loss: 0.4034 - val_accuracy: 0.8734\n",
            "Epoch 5/10\n",
            "313/313 [==============================] - 28s 88ms/step - loss: 0.0892 - accuracy: 0.9690 - val_loss: 0.4922 - val_accuracy: 0.8674\n",
            "Epoch 6/10\n",
            "313/313 [==============================] - 28s 89ms/step - loss: 0.0604 - accuracy: 0.9790 - val_loss: 0.5353 - val_accuracy: 0.8652\n",
            "Epoch 7/10\n",
            "313/313 [==============================] - 28s 88ms/step - loss: 0.0452 - accuracy: 0.9847 - val_loss: 0.5945 - val_accuracy: 0.8630\n",
            "Epoch 8/10\n",
            "313/313 [==============================] - 28s 89ms/step - loss: 0.0330 - accuracy: 0.9899 - val_loss: 0.7194 - val_accuracy: 0.8598\n",
            "Epoch 9/10\n",
            "313/313 [==============================] - 28s 89ms/step - loss: 0.0249 - accuracy: 0.9922 - val_loss: 0.7861 - val_accuracy: 0.8606\n",
            "Epoch 10/10\n",
            "313/313 [==============================] - 28s 89ms/step - loss: 0.0201 - accuracy: 0.9938 - val_loss: 0.7452 - val_accuracy: 0.8456\n",
            "157/157 [==============================] - 2s 15ms/step - loss: 0.7022 - accuracy: 0.8518\n",
            "Test accuracy: 0.8518000245094299\n"
          ]
        }
      ]
    },
    {
      "cell_type": "markdown",
      "source": [
        "Testing with DF which is not already split adds a dropout layer after the RNN layer, which helps to prevent overfitting. The model is also set up to use early stopping based on validation loss, which will stop training if the validation loss does not improve for a certain number of epochs."
      ],
      "metadata": {
        "id": "NlMzPQzUcInC"
      }
    },
    {
      "cell_type": "code",
      "source": [
        "import numpy as np\n",
        "import tensorflow as tf\n",
        "from tensorflow.keras.models import Sequential\n",
        "from tensorflow.keras.layers import LSTM, Dense, Embedding, Bidirectional\n",
        "from tensorflow.keras.preprocessing.text import Tokenizer\n",
        "from tensorflow.keras.preprocessing.sequence import pad_sequences\n",
        "from tensorflow.keras.utils import to_categorical\n",
        "from sklearn.model_selection import train_test_split\n",
        "from tensorflow.keras.callbacks import EarlyStopping\n",
        "\n",
        "# Split into train, test and validation sets\n",
        "X_train, X_test, y_train, y_test = train_test_split(df['review'], df['sentiment'], test_size=0.2, random_state=42)\n",
        "X_train, X_valid, y_train, y_valid = train_test_split(X_train, y_train, test_size=0.2, random_state=42)\n",
        "\n",
        "# Tokenize the data\n",
        "max_words = 10000\n",
        "max_len = 100\n",
        "tokenizer = Tokenizer(num_words=max_words)\n",
        "tokenizer.fit_on_texts(X_train)\n",
        "\n",
        "X_train = tokenizer.texts_to_sequences(X_train)\n",
        "X_test = tokenizer.texts_to_sequences(X_test)\n",
        "X_valid = tokenizer.texts_to_sequences(X_valid)\n",
        "\n",
        "X_train = pad_sequences(X_train, maxlen=max_len)\n",
        "X_test = pad_sequences(X_test, maxlen=max_len)\n",
        "X_valid = pad_sequences(X_valid, maxlen=max_len)\n",
        "\n",
        "y_train = to_categorical(y_train)\n",
        "y_test = to_categorical(y_test)\n",
        "y_valid = to_categorical(y_valid)\n",
        "\n",
        "# Build the model\n",
        "model = Sequential()\n",
        "model.add(Embedding(max_words, 128, input_length=max_len))\n",
        "model.add(Bidirectional(LSTM(64)))\n",
        "model.add(Dense(2, activation='softmax'))\n",
        "\n",
        "# Compile the model\n",
        "model.compile(optimizer='adam', loss='categorical_crossentropy', metrics=['accuracy'])\n",
        "\n",
        "# Set up early stopping\n",
        "early_stop = EarlyStopping(monitor='val_loss', patience=5, restore_best_weights=True)\n",
        "\n",
        "# Train the model\n",
        "history = model.fit(X_train, y_train, validation_data=(X_valid, y_valid), epochs=10, batch_size=128, callbacks=[early_stop])\n",
        "\n",
        "# Evaluate the model\n",
        "loss, accuracy = model.evaluate(X_test, y_test)\n",
        "\n",
        "print(\"Test accuracy:\", accuracy)"
      ],
      "metadata": {
        "colab": {
          "base_uri": "https://localhost:8080/"
        },
        "id": "Z1Xy_fQHgjJA",
        "outputId": "13aaa7e5-2d9a-43ee-b638-a8cd6cd93b6f"
      },
      "execution_count": 26,
      "outputs": [
        {
          "output_type": "stream",
          "name": "stdout",
          "text": [
            "Epoch 1/10\n",
            "250/250 [==============================] - 26s 90ms/step - loss: 0.4157 - accuracy: 0.8042 - val_loss: 0.3115 - val_accuracy: 0.8659\n",
            "Epoch 2/10\n",
            "250/250 [==============================] - 22s 87ms/step - loss: 0.2456 - accuracy: 0.9005 - val_loss: 0.3435 - val_accuracy: 0.8661\n",
            "Epoch 3/10\n",
            "250/250 [==============================] - 22s 88ms/step - loss: 0.1701 - accuracy: 0.9348 - val_loss: 0.3604 - val_accuracy: 0.8584\n",
            "Epoch 4/10\n",
            "250/250 [==============================] - 22s 87ms/step - loss: 0.1024 - accuracy: 0.9642 - val_loss: 0.4518 - val_accuracy: 0.8526\n",
            "Epoch 5/10\n",
            "250/250 [==============================] - 22s 87ms/step - loss: 0.0590 - accuracy: 0.9793 - val_loss: 0.5730 - val_accuracy: 0.8471\n",
            "Epoch 6/10\n",
            "250/250 [==============================] - 22s 88ms/step - loss: 0.0351 - accuracy: 0.9890 - val_loss: 0.7597 - val_accuracy: 0.8435\n",
            "313/313 [==============================] - 5s 15ms/step - loss: 0.3132 - accuracy: 0.8674\n",
            "Test accuracy: 0.8673999905586243\n"
          ]
        }
      ]
    },
    {
      "cell_type": "code",
      "source": [
        "import numpy as np\n",
        "import tensorflow as tf\n",
        "from tensorflow.keras.models import Sequential\n",
        "from tensorflow.keras.layers import LSTM, Dense, Embedding, Bidirectional\n",
        "from tensorflow.keras.preprocessing.text import Tokenizer\n",
        "from tensorflow.keras.preprocessing.sequence import pad_sequences\n",
        "from tensorflow.keras.utils import to_categorical\n",
        "from sklearn.model_selection import train_test_split\n",
        "from tensorflow.keras.callbacks import EarlyStopping\n",
        "\n",
        "# Split into train, test and validation sets\n",
        "X_train, X_test, y_train, y_test = train_test_split(df['review'], df['sentiment'], test_size=0.2, random_state=42)\n",
        "X_train, X_valid, y_train, y_valid = train_test_split(X_train, y_train, test_size=0.2, random_state=42)\n",
        "\n",
        "# Tokenize the data\n",
        "max_words = 10000\n",
        "max_len = 100\n",
        "tokenizer = Tokenizer(num_words=max_words)\n",
        "tokenizer.fit_on_texts(X_train)\n",
        "\n",
        "X_train = tokenizer.texts_to_sequences(X_train)\n",
        "X_test = tokenizer.texts_to_sequences(X_test)\n",
        "X_valid = tokenizer.texts_to_sequences(X_valid)\n",
        "\n",
        "X_train = pad_sequences(X_train, maxlen=max_len)\n",
        "X_test = pad_sequences(X_test, maxlen=max_len)\n",
        "X_valid = pad_sequences(X_valid, maxlen=max_len)\n",
        "\n",
        "y_train = to_categorical(y_train)\n",
        "y_test = to_categorical(y_test)\n",
        "y_valid = to_categorical(y_valid)\n",
        "\n",
        "# Build the model\n",
        "model = Sequential()\n",
        "model.add(Embedding(max_words, 128, input_length=max_len))\n",
        "model.add(Bidirectional(LSTM(64)))\n",
        "model.add(Dense(2, activation='softmax'))\n",
        "\n",
        "# Compile the model\n",
        "model.compile(optimizer='adam', loss='categorical_crossentropy', metrics=['accuracy'])\n",
        "\n",
        "# Set up early stopping\n",
        "early_stop = EarlyStopping(monitor='val_loss', patience=5, restore_best_weights=True)\n",
        "\n",
        "# Train the model\n",
        "history = model.fit(X_train, y_train, validation_data=(X_valid, y_valid), epochs=10, batch_size=16, callbacks=[early_stop])\n",
        "\n",
        "# Evaluate the model\n",
        "loss, accuracy = model.evaluate(X_test, y_test)\n",
        "\n",
        "print(\"Test accuracy:\", accuracy)"
      ],
      "metadata": {
        "colab": {
          "base_uri": "https://localhost:8080/"
        },
        "id": "yRVy6s_scIx7",
        "outputId": "6ffc1934-aec0-4678-fd02-2ea62bcb7025"
      },
      "execution_count": 25,
      "outputs": [
        {
          "output_type": "stream",
          "name": "stdout",
          "text": [
            "Epoch 1/10\n",
            "2000/2000 [==============================] - 74s 36ms/step - loss: 0.3951 - accuracy: 0.8211 - val_loss: 0.3157 - val_accuracy: 0.8701\n",
            "Epoch 2/10\n",
            "2000/2000 [==============================] - 71s 35ms/step - loss: 0.2467 - accuracy: 0.9004 - val_loss: 0.3079 - val_accuracy: 0.8724\n",
            "Epoch 3/10\n",
            "2000/2000 [==============================] - 71s 36ms/step - loss: 0.1715 - accuracy: 0.9337 - val_loss: 0.3525 - val_accuracy: 0.8583\n",
            "Epoch 4/10\n",
            "2000/2000 [==============================] - 72s 36ms/step - loss: 0.1068 - accuracy: 0.9622 - val_loss: 0.3857 - val_accuracy: 0.8606\n",
            "Epoch 5/10\n",
            "2000/2000 [==============================] - 73s 36ms/step - loss: 0.0582 - accuracy: 0.9804 - val_loss: 0.5427 - val_accuracy: 0.8612\n",
            "Epoch 6/10\n",
            "2000/2000 [==============================] - 74s 37ms/step - loss: 0.0370 - accuracy: 0.9874 - val_loss: 0.6496 - val_accuracy: 0.8580\n",
            "Epoch 7/10\n",
            "2000/2000 [==============================] - 73s 36ms/step - loss: 0.0259 - accuracy: 0.9914 - val_loss: 0.6950 - val_accuracy: 0.8545\n",
            "313/313 [==============================] - 5s 14ms/step - loss: 0.3179 - accuracy: 0.8655\n",
            "Test accuracy: 0.8654999732971191\n"
          ]
        }
      ]
    },
    {
      "cell_type": "markdown",
      "source": [
        "## Transformer Based Models (DistilBERT and Roberta)"
      ],
      "metadata": {
        "id": "UAemK_-8cJaz"
      }
    },
    {
      "cell_type": "code",
      "source": [
        "import os\n",
        "import tensorflow as tf\n",
        "from transformers import TFAutoModelForSequenceClassification, AutoTokenizer\n",
        "from sklearn.model_selection import train_test_split\n",
        "import numpy as np\n",
        "\n",
        "# Detect TPU and set up distribution strategy\n",
        "tpu = tf.distribute.cluster_resolver.TPUClusterResolver.connect()\n",
        "tpu_strategy = tf.distribute.TPUStrategy(tpu)\n",
        "\n",
        "model_name = 'distilbert-base-uncased'\n",
        "tokenizer = AutoTokenizer.from_pretrained(model_name)\n",
        "\n",
        "max_len = 512\n",
        "X_train = tokenizer(text=train['preprocessed_text'].tolist(), add_special_tokens=True, max_length=max_len, truncation=True, padding=True, return_tensors='tf')\n",
        "y_train = train['label'].values\n",
        "\n",
        "X_train_np = X_train['input_ids'].numpy()\n",
        "X_train_np, X_val_np, y_train, y_val = train_test_split(X_train_np, y_train, test_size=0.2, random_state=42)\n",
        "\n",
        "# Create TensorFlow datasets\n",
        "train_dataset = tf.data.Dataset.from_tensor_slices((X_train_np, y_train)).batch(16)\n",
        "val_dataset = tf.data.Dataset.from_tensor_slices((X_val_np, y_val)).batch(16)\n",
        "\n",
        "with tpu_strategy.scope():\n",
        "    model = TFAutoModelForSequenceClassification.from_pretrained(model_name, num_labels=2)\n",
        "\n",
        "    optimizer = tf.keras.optimizers.Adam(learning_rate=5e-5)\n",
        "    loss = tf.keras.losses.SparseCategoricalCrossentropy(from_logits=True)\n",
        "    model.compile(optimizer=optimizer, loss=loss, metrics=['accuracy'])\n",
        "\n",
        "batch_size = 16\n",
        "epochs = 10\n",
        "history = model.fit(train_dataset, epochs=epochs, validation_data=val_dataset)\n",
        "\n",
        "X_test = tokenizer(text=test['preprocessed_text'].tolist(), add_special_tokens=True, max_length=max_len, truncation=True, padding=True, return_tensors='tf')\n",
        "y_test = test['label'].values\n",
        "\n",
        "# Convert the test dataset into a TensorFlow dataset\n",
        "test_dataset = tf.data.Dataset.from_tensor_slices((X_test['input_ids'], X_test['attention_mask'])).batch(16)\n",
        "\n",
        "y_pred = model.predict(test_dataset)\n",
        "y_pred_labels = np.argmax(y_pred.logits, axis=1)\n",
        "accuracy = np.sum(y_pred_labels == y_test) / len(y_test)\n",
        "print(f\"Test accuracy: {accuracy:.2f}\")"
      ],
      "metadata": {
        "colab": {
          "base_uri": "https://localhost:8080/"
        },
        "id": "B4u3XJvqswRB",
        "outputId": "84cb9622-9ab7-45d3-8786-1c047d219272"
      },
      "execution_count": null,
      "outputs": [
        {
          "output_type": "stream",
          "name": "stderr",
          "text": [
            "Some layers from the model checkpoint at distilbert-base-uncased were not used when initializing TFDistilBertForSequenceClassification: ['vocab_layer_norm', 'vocab_transform', 'vocab_projector', 'activation_13']\n",
            "- This IS expected if you are initializing TFDistilBertForSequenceClassification from the checkpoint of a model trained on another task or with another architecture (e.g. initializing a BertForSequenceClassification model from a BertForPreTraining model).\n",
            "- This IS NOT expected if you are initializing TFDistilBertForSequenceClassification from the checkpoint of a model that you expect to be exactly identical (initializing a BertForSequenceClassification model from a BertForSequenceClassification model).\n",
            "Some layers of TFDistilBertForSequenceClassification were not initialized from the model checkpoint at distilbert-base-uncased and are newly initialized: ['classifier', 'pre_classifier', 'dropout_19']\n",
            "You should probably TRAIN this model on a down-stream task to be able to use it for predictions and inference.\n"
          ]
        },
        {
          "output_type": "stream",
          "name": "stdout",
          "text": [
            "Epoch 1/10\n"
          ]
        },
        {
          "output_type": "stream",
          "name": "stderr",
          "text": [
            "WARNING:tensorflow:From /usr/local/lib/python3.9/dist-packages/tensorflow/python/autograph/pyct/static_analysis/liveness.py:83: Analyzer.lamba_check (from tensorflow.python.autograph.pyct.static_analysis.liveness) is deprecated and will be removed after 2023-09-23.\n",
            "Instructions for updating:\n",
            "Lambda fuctions will be no more assumed to be used in the statement where they are used, or at least in the same block. https://github.com/tensorflow/tensorflow/issues/56089\n"
          ]
        },
        {
          "output_type": "stream",
          "name": "stdout",
          "text": [
            "2000/2000 [==============================] - 181s 67ms/step - loss: 0.6414 - accuracy: 0.6095 - val_loss: 0.5745 - val_accuracy: 0.7329\n",
            "Epoch 2/10\n",
            "2000/2000 [==============================] - 127s 64ms/step - loss: 0.5298 - accuracy: 0.7581 - val_loss: 0.4805 - val_accuracy: 0.7713\n",
            "Epoch 3/10\n",
            "2000/2000 [==============================] - 127s 64ms/step - loss: 0.3901 - accuracy: 0.8346 - val_loss: 0.3480 - val_accuracy: 0.8493\n",
            "Epoch 4/10\n",
            "2000/2000 [==============================] - 128s 64ms/step - loss: 0.2702 - accuracy: 0.8927 - val_loss: 0.3187 - val_accuracy: 0.8779\n",
            "Epoch 5/10\n",
            "2000/2000 [==============================] - 128s 64ms/step - loss: 0.1982 - accuracy: 0.9278 - val_loss: 0.3694 - val_accuracy: 0.8443\n",
            "Epoch 6/10\n",
            "2000/2000 [==============================] - 127s 64ms/step - loss: 0.1436 - accuracy: 0.9513 - val_loss: 0.3727 - val_accuracy: 0.8627\n",
            "Epoch 7/10\n",
            "2000/2000 [==============================] - 127s 63ms/step - loss: 0.1353 - accuracy: 0.9566 - val_loss: 0.3637 - val_accuracy: 0.8684\n",
            "Epoch 8/10\n",
            "2000/2000 [==============================] - 127s 64ms/step - loss: 0.1084 - accuracy: 0.9663 - val_loss: 0.3738 - val_accuracy: 0.8698\n",
            "Epoch 9/10\n",
            "2000/2000 [==============================] - 127s 64ms/step - loss: 0.0737 - accuracy: 0.9777 - val_loss: 0.5133 - val_accuracy: 0.8587\n",
            "Epoch 10/10\n",
            "2000/2000 [==============================] - 128s 64ms/step - loss: 0.0616 - accuracy: 0.9820 - val_loss: 0.5431 - val_accuracy: 0.8556\n",
            "313/313 [==============================] - 12s 30ms/step\n",
            "Test accuracy: 0.85\n"
          ]
        }
      ]
    },
    {
      "cell_type": "code",
      "source": [
        "import os\n",
        "import tensorflow as tf\n",
        "from transformers import TFAutoModelForSequenceClassification, AutoTokenizer\n",
        "from sklearn.model_selection import train_test_split\n",
        "import numpy as np\n",
        "\n",
        "# Detect TPU and set up distribution strategy\n",
        "tpu = tf.distribute.cluster_resolver.TPUClusterResolver.connect()\n",
        "tpu_strategy = tf.distribute.TPUStrategy(tpu)\n",
        "\n",
        "model_name = 'distilbert-base-uncased'\n",
        "tokenizer = AutoTokenizer.from_pretrained(model_name)\n",
        "\n",
        "max_len = 512\n",
        "\n",
        "# Split into train, test and validation sets\n",
        "X_train, X_test, y_train, y_test = train_test_split(df['review'], df['sentiment'], test_size=0.2, random_state=42)\n",
        "X_train, X_valid, y_train, y_valid = train_test_split(X_train, y_train, test_size=0.2, random_state=42)\n",
        "\n",
        "X_train = tokenizer(text=X_train.tolist(), add_special_tokens=True, max_length=max_len, truncation=True, padding=True, return_tensors='tf')\n",
        "y_train = y_train.values\n",
        "\n",
        "X_train_np = X_train['input_ids'].numpy()\n",
        "X_train_np, X_val_np, y_train, y_val = train_test_split(X_train_np, y_train, test_size=0.2, random_state=42)\n",
        "\n",
        "# Create TensorFlow datasets\n",
        "train_dataset = tf.data.Dataset.from_tensor_slices((X_train_np, y_train)).batch(32)\n",
        "val_dataset = tf.data.Dataset.from_tensor_slices((X_val_np, y_val)).batch(32)\n",
        "\n",
        "with tpu_strategy.scope():\n",
        "    model = TFAutoModelForSequenceClassification.from_pretrained(model_name, num_labels=2)\n",
        "\n",
        "    optimizer = tf.keras.optimizers.Adam(learning_rate=5e-5)\n",
        "    loss = tf.keras.losses.SparseCategoricalCrossentropy(from_logits=True)\n",
        "    model.compile(optimizer=optimizer, loss=loss, metrics=['accuracy'])\n",
        "\n",
        "# Set up early stopping\n",
        "early_stop = tf.keras.callbacks.EarlyStopping(monitor='val_loss', patience=3, restore_best_weights=True)\n",
        "\n",
        "batch_size = 32\n",
        "epochs = 10\n",
        "history = model.fit(train_dataset, epochs=epochs, validation_data=val_dataset, callbacks=[early_stop])\n",
        "\n",
        "X_test = tokenizer(text=X_test.tolist(), add_special_tokens=True, max_length=max_len, truncation=True, padding=True, return_tensors='tf')\n",
        "y_test = y_test.values\n",
        "\n",
        "# Convert the test dataset into a TensorFlow dataset\n",
        "test_dataset = tf.data.Dataset.from_tensor_slices((X_test['input_ids'], X_test['attention_mask'])).batch(32)\n",
        "\n",
        "y_pred = model.predict(test_dataset)\n",
        "y_pred_labels = np.argmax(y_pred.logits, axis=1)\n",
        "accuracy = np.sum(y_pred_labels == y_test) / len(y_test)\n",
        "print(f\"Test accuracy: {accuracy:.2f}\")"
      ],
      "metadata": {
        "colab": {
          "base_uri": "https://localhost:8080/",
          "height": 518,
          "referenced_widgets": [
            "a6d0c87675db43198add5f7dee9e5db2",
            "32b7ac8a3eae4308a78dfce3d05c82fd",
            "ed6e7b501669467d8eda0da1e3e725db",
            "9036da49b52e4d0699d53e6c06f5a735",
            "36771192ccb54013b01a0208760dc2ce",
            "91323721846944449524739dd3b63035",
            "c781da5e9e2d47a0b382c7d0cec8b711",
            "7f08026cd7614364a30937b2e7eaf22e",
            "f6c3fb0015db4426ac95f482dca9d84e",
            "75685eeae52a4daab1375b8f3123a16d",
            "6a2fe6a58679488daf7277c16917ff85",
            "3452b439512c47c48a33a7a5664b44f0",
            "057c975f305b47a4a805c78925c03620",
            "58191bab5d35424692ea68df1020ed98",
            "b1be04c683fd4b778f4d6288381736b4",
            "f9573b0f7b6d491f9295f927cff76ed9",
            "0f0b0075159f402cb8735481216d70d6",
            "570d1c1c7b9b459583a04e90911b3f38",
            "0ea20e83849c45a0a01ece9d44f4e86c",
            "583a5b38ed3947eabae79b479c6a26a0",
            "c0d88af9bbb041af86699124371d3c1f",
            "1bab2dca0b3c49128689c49d85c3a0dd",
            "ce97540b97cc4bb99961d6715590c608",
            "00b2cb0db5bc44aa90f2d68c4778cf43",
            "9956781a5c7b4ae1ad7455321f054bf1",
            "296e9853039946379ec3d4dbb3d5b1f8",
            "2e5f527e80994db1b93ee8f057dd4b23",
            "b447803f9f084625ad91ce1afe76fac9",
            "e5074f3189c24e49942efc8f542b12ea",
            "e966c5100b394dbca4eb075bd15a5064",
            "6e513b5bc0b1486cbc135f6c7172797f",
            "dff27461dd704fa88a00edcbf21379fc",
            "55519ff0b224431d959f143fe1d56303",
            "0b642072414347a7bf659783b7802e95",
            "143afec407ec40548fcab4c7ca1e244a",
            "6e92816531a94e259ee59c84e6e8555b",
            "bbf31fb0565c4202ba8ddd0e4b130bf9",
            "539322c24634476895366755e66cc889",
            "2b09a3b478bd4a8ca57b44b17a27e9a8",
            "345c008f6f704371abc0c60797f0ec7b",
            "340fb28aa56142d595db70cf3ac649ac",
            "eb65ac3d609142bf9863034197c49694",
            "19e0d1dd4b914f1aac33d61581086b6c",
            "07078908c89f46a78c3655f8a9e68bb9",
            "fa7be248eb734763b5317831a40f0977",
            "b55fd611e2964da8b9920c56a8e0a063",
            "849be727000042e08cf7f0447668c915",
            "b3847b266c9a4a46b3a44f3802a7ebb4",
            "e6869969ca964b8294a535f075781feb",
            "b310084cbeec44008c776e8f8d71c0bd",
            "0385b922dfd74f72a86de97be3726550",
            "6bec9061c4af477190a0e4d29906d8a1",
            "1b1afff05ec14d52abbe6ed0fa99bcce",
            "b6226f72c40a4ec499754a93eb862de1",
            "6f48caa6592441d2850a21d7377d873a"
          ]
        },
        "id": "MDAzokkUiJvr",
        "outputId": "d47129a1-3063-4850-f4a8-9d0520e946e3"
      },
      "execution_count": 27,
      "outputs": [
        {
          "output_type": "display_data",
          "data": {
            "text/plain": [
              "Downloading (…)okenizer_config.json:   0%|          | 0.00/28.0 [00:00<?, ?B/s]"
            ],
            "application/vnd.jupyter.widget-view+json": {
              "version_major": 2,
              "version_minor": 0,
              "model_id": "a6d0c87675db43198add5f7dee9e5db2"
            }
          },
          "metadata": {}
        },
        {
          "output_type": "display_data",
          "data": {
            "text/plain": [
              "Downloading (…)lve/main/config.json:   0%|          | 0.00/483 [00:00<?, ?B/s]"
            ],
            "application/vnd.jupyter.widget-view+json": {
              "version_major": 2,
              "version_minor": 0,
              "model_id": "3452b439512c47c48a33a7a5664b44f0"
            }
          },
          "metadata": {}
        },
        {
          "output_type": "display_data",
          "data": {
            "text/plain": [
              "Downloading (…)solve/main/vocab.txt:   0%|          | 0.00/232k [00:00<?, ?B/s]"
            ],
            "application/vnd.jupyter.widget-view+json": {
              "version_major": 2,
              "version_minor": 0,
              "model_id": "ce97540b97cc4bb99961d6715590c608"
            }
          },
          "metadata": {}
        },
        {
          "output_type": "display_data",
          "data": {
            "text/plain": [
              "Downloading (…)/main/tokenizer.json:   0%|          | 0.00/466k [00:00<?, ?B/s]"
            ],
            "application/vnd.jupyter.widget-view+json": {
              "version_major": 2,
              "version_minor": 0,
              "model_id": "0b642072414347a7bf659783b7802e95"
            }
          },
          "metadata": {}
        },
        {
          "output_type": "display_data",
          "data": {
            "text/plain": [
              "Downloading tf_model.h5:   0%|          | 0.00/363M [00:00<?, ?B/s]"
            ],
            "application/vnd.jupyter.widget-view+json": {
              "version_major": 2,
              "version_minor": 0,
              "model_id": "fa7be248eb734763b5317831a40f0977"
            }
          },
          "metadata": {}
        },
        {
          "output_type": "stream",
          "name": "stderr",
          "text": [
            "Some layers from the model checkpoint at distilbert-base-uncased were not used when initializing TFDistilBertForSequenceClassification: ['vocab_projector', 'vocab_transform', 'activation_13', 'vocab_layer_norm']\n",
            "- This IS expected if you are initializing TFDistilBertForSequenceClassification from the checkpoint of a model trained on another task or with another architecture (e.g. initializing a BertForSequenceClassification model from a BertForPreTraining model).\n",
            "- This IS NOT expected if you are initializing TFDistilBertForSequenceClassification from the checkpoint of a model that you expect to be exactly identical (initializing a BertForSequenceClassification model from a BertForSequenceClassification model).\n",
            "Some layers of TFDistilBertForSequenceClassification were not initialized from the model checkpoint at distilbert-base-uncased and are newly initialized: ['classifier', 'pre_classifier', 'dropout_27']\n",
            "You should probably TRAIN this model on a down-stream task to be able to use it for predictions and inference.\n"
          ]
        },
        {
          "output_type": "stream",
          "name": "stdout",
          "text": [
            "Epoch 1/10\n"
          ]
        },
        {
          "output_type": "stream",
          "name": "stderr",
          "text": [
            "WARNING:tensorflow:From /usr/local/lib/python3.9/dist-packages/tensorflow/python/autograph/pyct/static_analysis/liveness.py:83: Analyzer.lamba_check (from tensorflow.python.autograph.pyct.static_analysis.liveness) is deprecated and will be removed after 2023-09-23.\n",
            "Instructions for updating:\n",
            "Lambda fuctions will be no more assumed to be used in the statement where they are used, or at least in the same block. https://github.com/tensorflow/tensorflow/issues/56089\n"
          ]
        },
        {
          "output_type": "stream",
          "name": "stdout",
          "text": [
            "800/800 [==============================] - 123s 98ms/step - loss: 0.2685 - accuracy: 0.8887 - val_loss: 0.1984 - val_accuracy: 0.9181\n",
            "Epoch 2/10\n",
            "800/800 [==============================] - 72s 90ms/step - loss: 0.1389 - accuracy: 0.9500 - val_loss: 0.2203 - val_accuracy: 0.9162\n",
            "Epoch 3/10\n",
            "800/800 [==============================] - 71s 89ms/step - loss: 0.0960 - accuracy: 0.9668 - val_loss: 0.2421 - val_accuracy: 0.9191\n",
            "Epoch 4/10\n",
            "800/800 [==============================] - 74s 93ms/step - loss: 0.0593 - accuracy: 0.9812 - val_loss: 0.2674 - val_accuracy: 0.9222\n",
            "313/313 [==============================] - 16s 45ms/step\n",
            "Test accuracy: 0.92\n"
          ]
        }
      ]
    },
    {
      "cell_type": "markdown",
      "source": [
        "## Roberta Model"
      ],
      "metadata": {
        "id": "uLXBGwWJktxX"
      }
    },
    {
      "cell_type": "code",
      "source": [
        "import os\n",
        "import tensorflow as tf\n",
        "from transformers import TFAutoModelForSequenceClassification, AutoTokenizer\n",
        "from sklearn.model_selection import train_test_split\n",
        "import numpy as np\n",
        "\n",
        "# Detect TPU and set up distribution strategy\n",
        "tpu = tf.distribute.cluster_resolver.TPUClusterResolver.connect()\n",
        "tpu_strategy = tf.distribute.TPUStrategy(tpu)\n",
        "\n",
        "model_name = 'roberta-base'\n",
        "tokenizer = AutoTokenizer.from_pretrained(model_name)\n",
        "\n",
        "max_len = 512\n",
        "X_train = tokenizer(text=train['text'].tolist(), add_special_tokens=True, max_length=max_len, truncation=True, padding=True, return_tensors='tf')\n",
        "y_train = train['label'].values\n",
        "\n",
        "X_train_np = X_train['input_ids'].numpy()\n",
        "X_train_np, X_val_np, y_train, y_val = train_test_split(X_train_np, y_train, test_size=0.2, random_state=42)\n",
        "\n",
        "# Create TensorFlow datasets\n",
        "train_dataset = tf.data.Dataset.from_tensor_slices((X_train_np, y_train)).batch(16)\n",
        "val_dataset = tf.data.Dataset.from_tensor_slices((X_val_np, y_val)).batch(16)\n",
        "\n",
        "with tpu_strategy.scope():\n",
        "    model = TFAutoModelForSequenceClassification.from_pretrained(model_name, num_labels=2)\n",
        "\n",
        "    optimizer = tf.keras.optimizers.Adam(learning_rate=2e-6)\n",
        "    loss = tf.keras.losses.SparseCategoricalCrossentropy(from_logits=True)\n",
        "    model.compile(optimizer=optimizer, loss=loss, metrics=['accuracy'])\n",
        "\n",
        "batch_size = 16\n",
        "epochs = 10\n",
        "\n",
        "# Add early stopping\n",
        "early_stopping = tf.keras.callbacks.EarlyStopping(monitor='val_loss', patience=3, restore_best_weights=True)\n",
        "\n",
        "history = model.fit(train_dataset, epochs=epochs, validation_data=val_dataset, callbacks=[early_stopping])\n",
        "\n",
        "X_test = tokenizer(text=test['text'].tolist(), add_special_tokens=True, max_length=max_len, truncation=True, padding=True, return_tensors='tf')\n",
        "y_test = test['label'].values\n",
        "\n",
        "# Convert the test dataset into a TensorFlow dataset\n",
        "test_dataset = tf.data.Dataset.from_tensor_slices((X_test['input_ids'], X_test['attention_mask'])).batch(16)\n",
        "\n",
        "y_pred = model.predict(test_dataset)\n",
        "y_pred_labels = np.argmax(y_pred.logits, axis=1)\n",
        "accuracy = np.sum(y_pred_labels == y_test) / len(y_test)\n",
        "print(f\"Test accuracy: {accuracy:.2f}\")"
      ],
      "metadata": {
        "colab": {
          "base_uri": "https://localhost:8080/"
        },
        "id": "iGENdw8t3-9c",
        "outputId": "11dfd5ab-53f3-4245-d102-7e2941cdc486"
      },
      "execution_count": null,
      "outputs": [
        {
          "output_type": "stream",
          "name": "stderr",
          "text": [
            "WARNING:tensorflow:TPU system grpc://10.68.250.82:8470 has already been initialized. Reinitializing the TPU can cause previously created variables on TPU to be lost.\n",
            "All model checkpoint layers were used when initializing TFRobertaForSequenceClassification.\n",
            "\n",
            "Some layers of TFRobertaForSequenceClassification were not initialized from the model checkpoint at roberta-base and are newly initialized: ['classifier']\n",
            "You should probably TRAIN this model on a down-stream task to be able to use it for predictions and inference.\n"
          ]
        },
        {
          "output_type": "stream",
          "name": "stdout",
          "text": [
            "Epoch 1/10\n",
            "2000/2000 [==============================] - 324s 124ms/step - loss: 0.3419 - accuracy: 0.8178 - val_loss: 0.1628 - val_accuracy: 0.9371\n",
            "Epoch 2/10\n",
            "2000/2000 [==============================] - 239s 119ms/step - loss: 0.1485 - accuracy: 0.9466 - val_loss: 0.1449 - val_accuracy: 0.9467\n",
            "Epoch 3/10\n",
            "2000/2000 [==============================] - 238s 119ms/step - loss: 0.1236 - accuracy: 0.9557 - val_loss: 0.1463 - val_accuracy: 0.9479\n",
            "Epoch 4/10\n",
            "2000/2000 [==============================] - 238s 119ms/step - loss: 0.1065 - accuracy: 0.9628 - val_loss: 0.1471 - val_accuracy: 0.9485\n",
            "Epoch 5/10\n",
            "2000/2000 [==============================] - 244s 122ms/step - loss: 0.0882 - accuracy: 0.9704 - val_loss: 0.1500 - val_accuracy: 0.9510\n",
            "313/313 [==============================] - 19s 48ms/step\n",
            "Test accuracy: 0.95\n"
          ]
        }
      ]
    }
  ]
}